{
 "cells": [
  {
   "cell_type": "markdown",
   "metadata": {},
   "source": [
    "# AML HW 4\n",
    "# Submitted by Hima Bindu (hb2635), Swarna Bharathi Mantena (sm4776)\n",
    "# TASK 1"
   ]
  },
  {
   "cell_type": "code",
   "execution_count": 1,
   "metadata": {},
   "outputs": [
    {
     "data": {
      "text/html": [
       "<div>\n",
       "<style scoped>\n",
       "    .dataframe tbody tr th:only-of-type {\n",
       "        vertical-align: middle;\n",
       "    }\n",
       "\n",
       "    .dataframe tbody tr th {\n",
       "        vertical-align: top;\n",
       "    }\n",
       "\n",
       "    .dataframe thead th {\n",
       "        text-align: right;\n",
       "    }\n",
       "</style>\n",
       "<table border=\"1\" class=\"dataframe\">\n",
       "  <thead>\n",
       "    <tr style=\"text-align: right;\">\n",
       "      <th></th>\n",
       "      <th>Unnamed: 0</th>\n",
       "      <th>country</th>\n",
       "      <th>description</th>\n",
       "      <th>designation</th>\n",
       "      <th>points</th>\n",
       "      <th>price</th>\n",
       "      <th>province</th>\n",
       "      <th>region_1</th>\n",
       "      <th>region_2</th>\n",
       "      <th>taster_name</th>\n",
       "      <th>taster_twitter_handle</th>\n",
       "      <th>title</th>\n",
       "      <th>variety</th>\n",
       "      <th>winery</th>\n",
       "    </tr>\n",
       "  </thead>\n",
       "  <tbody>\n",
       "    <tr>\n",
       "      <th>0</th>\n",
       "      <td>0</td>\n",
       "      <td>Italy</td>\n",
       "      <td>Aromas include tropical fruit, broom, brimston...</td>\n",
       "      <td>Vulkà Bianco</td>\n",
       "      <td>87</td>\n",
       "      <td>NaN</td>\n",
       "      <td>Sicily &amp; Sardinia</td>\n",
       "      <td>Etna</td>\n",
       "      <td>NaN</td>\n",
       "      <td>Kerin O’Keefe</td>\n",
       "      <td>@kerinokeefe</td>\n",
       "      <td>Nicosia 2013 Vulkà Bianco  (Etna)</td>\n",
       "      <td>White Blend</td>\n",
       "      <td>Nicosia</td>\n",
       "    </tr>\n",
       "    <tr>\n",
       "      <th>1</th>\n",
       "      <td>1</td>\n",
       "      <td>Portugal</td>\n",
       "      <td>This is ripe and fruity, a wine that is smooth...</td>\n",
       "      <td>Avidagos</td>\n",
       "      <td>87</td>\n",
       "      <td>15.0</td>\n",
       "      <td>Douro</td>\n",
       "      <td>NaN</td>\n",
       "      <td>NaN</td>\n",
       "      <td>Roger Voss</td>\n",
       "      <td>@vossroger</td>\n",
       "      <td>Quinta dos Avidagos 2011 Avidagos Red (Douro)</td>\n",
       "      <td>Portuguese Red</td>\n",
       "      <td>Quinta dos Avidagos</td>\n",
       "    </tr>\n",
       "    <tr>\n",
       "      <th>2</th>\n",
       "      <td>2</td>\n",
       "      <td>US</td>\n",
       "      <td>Tart and snappy, the flavors of lime flesh and...</td>\n",
       "      <td>NaN</td>\n",
       "      <td>87</td>\n",
       "      <td>14.0</td>\n",
       "      <td>Oregon</td>\n",
       "      <td>Willamette Valley</td>\n",
       "      <td>Willamette Valley</td>\n",
       "      <td>Paul Gregutt</td>\n",
       "      <td>@paulgwine</td>\n",
       "      <td>Rainstorm 2013 Pinot Gris (Willamette Valley)</td>\n",
       "      <td>Pinot Gris</td>\n",
       "      <td>Rainstorm</td>\n",
       "    </tr>\n",
       "    <tr>\n",
       "      <th>3</th>\n",
       "      <td>3</td>\n",
       "      <td>US</td>\n",
       "      <td>Pineapple rind, lemon pith and orange blossom ...</td>\n",
       "      <td>Reserve Late Harvest</td>\n",
       "      <td>87</td>\n",
       "      <td>13.0</td>\n",
       "      <td>Michigan</td>\n",
       "      <td>Lake Michigan Shore</td>\n",
       "      <td>NaN</td>\n",
       "      <td>Alexander Peartree</td>\n",
       "      <td>NaN</td>\n",
       "      <td>St. Julian 2013 Reserve Late Harvest Riesling ...</td>\n",
       "      <td>Riesling</td>\n",
       "      <td>St. Julian</td>\n",
       "    </tr>\n",
       "    <tr>\n",
       "      <th>4</th>\n",
       "      <td>4</td>\n",
       "      <td>US</td>\n",
       "      <td>Much like the regular bottling from 2012, this...</td>\n",
       "      <td>Vintner's Reserve Wild Child Block</td>\n",
       "      <td>87</td>\n",
       "      <td>65.0</td>\n",
       "      <td>Oregon</td>\n",
       "      <td>Willamette Valley</td>\n",
       "      <td>Willamette Valley</td>\n",
       "      <td>Paul Gregutt</td>\n",
       "      <td>@paulgwine</td>\n",
       "      <td>Sweet Cheeks 2012 Vintner's Reserve Wild Child...</td>\n",
       "      <td>Pinot Noir</td>\n",
       "      <td>Sweet Cheeks</td>\n",
       "    </tr>\n",
       "  </tbody>\n",
       "</table>\n",
       "</div>"
      ],
      "text/plain": [
       "   Unnamed: 0   country                                        description  \\\n",
       "0           0     Italy  Aromas include tropical fruit, broom, brimston...   \n",
       "1           1  Portugal  This is ripe and fruity, a wine that is smooth...   \n",
       "2           2        US  Tart and snappy, the flavors of lime flesh and...   \n",
       "3           3        US  Pineapple rind, lemon pith and orange blossom ...   \n",
       "4           4        US  Much like the regular bottling from 2012, this...   \n",
       "\n",
       "                          designation  points  price           province  \\\n",
       "0                        Vulkà Bianco      87    NaN  Sicily & Sardinia   \n",
       "1                            Avidagos      87   15.0              Douro   \n",
       "2                                 NaN      87   14.0             Oregon   \n",
       "3                Reserve Late Harvest      87   13.0           Michigan   \n",
       "4  Vintner's Reserve Wild Child Block      87   65.0             Oregon   \n",
       "\n",
       "              region_1           region_2         taster_name  \\\n",
       "0                 Etna                NaN       Kerin O’Keefe   \n",
       "1                  NaN                NaN          Roger Voss   \n",
       "2    Willamette Valley  Willamette Valley        Paul Gregutt   \n",
       "3  Lake Michigan Shore                NaN  Alexander Peartree   \n",
       "4    Willamette Valley  Willamette Valley        Paul Gregutt   \n",
       "\n",
       "  taster_twitter_handle                                              title  \\\n",
       "0          @kerinokeefe                  Nicosia 2013 Vulkà Bianco  (Etna)   \n",
       "1            @vossroger      Quinta dos Avidagos 2011 Avidagos Red (Douro)   \n",
       "2           @paulgwine       Rainstorm 2013 Pinot Gris (Willamette Valley)   \n",
       "3                   NaN  St. Julian 2013 Reserve Late Harvest Riesling ...   \n",
       "4           @paulgwine   Sweet Cheeks 2012 Vintner's Reserve Wild Child...   \n",
       "\n",
       "          variety               winery  \n",
       "0     White Blend              Nicosia  \n",
       "1  Portuguese Red  Quinta dos Avidagos  \n",
       "2      Pinot Gris            Rainstorm  \n",
       "3        Riesling           St. Julian  \n",
       "4      Pinot Noir         Sweet Cheeks  "
      ]
     },
     "execution_count": 1,
     "metadata": {},
     "output_type": "execute_result"
    }
   ],
   "source": [
    "import pandas as pd\n",
    "dataset = pd.read_csv('winemag-data-130k-v2.csv')\n",
    "dataset.head()"
   ]
  },
  {
   "cell_type": "code",
   "execution_count": 2,
   "metadata": {},
   "outputs": [
    {
     "name": "stdout",
     "output_type": "stream",
     "text": [
      "<class 'pandas.core.frame.DataFrame'>\n",
      "RangeIndex: 129971 entries, 0 to 129970\n",
      "Data columns (total 14 columns):\n",
      " #   Column                 Non-Null Count   Dtype  \n",
      "---  ------                 --------------   -----  \n",
      " 0   Unnamed: 0             129971 non-null  int64  \n",
      " 1   country                129908 non-null  object \n",
      " 2   description            129971 non-null  object \n",
      " 3   designation            92506 non-null   object \n",
      " 4   points                 129971 non-null  int64  \n",
      " 5   price                  120975 non-null  float64\n",
      " 6   province               129908 non-null  object \n",
      " 7   region_1               108724 non-null  object \n",
      " 8   region_2               50511 non-null   object \n",
      " 9   taster_name            103727 non-null  object \n",
      " 10  taster_twitter_handle  98758 non-null   object \n",
      " 11  title                  129971 non-null  object \n",
      " 12  variety                129970 non-null  object \n",
      " 13  winery                 129971 non-null  object \n",
      "dtypes: float64(1), int64(2), object(11)\n",
      "memory usage: 13.9+ MB\n"
     ]
    }
   ],
   "source": [
    "dataset.info()"
   ]
  },
  {
   "cell_type": "code",
   "execution_count": 3,
   "metadata": {
    "scrolled": true
   },
   "outputs": [
    {
     "name": "stdout",
     "output_type": "stream",
     "text": [
      "Unnamed: 0 129971\n",
      "country 44\n",
      "description 119955\n",
      "designation 37980\n",
      "points 21\n",
      "price 391\n",
      "province 426\n",
      "region_1 1230\n",
      "region_2 18\n",
      "taster_name 20\n",
      "taster_twitter_handle 16\n",
      "title 118840\n",
      "variety 708\n",
      "winery 16757\n"
     ]
    }
   ],
   "source": [
    "for name in dataset.columns:\n",
    "    print(name,len(dataset[name].unique()))"
   ]
  },
  {
   "cell_type": "code",
   "execution_count": 4,
   "metadata": {},
   "outputs": [
    {
     "data": {
      "image/png": "[encoded data removed]",
      "text/plain": [
       "<Figure size 432x288 with 2 Axes>"
      ]
     },
     "metadata": {
      "needs_background": "light"
     },
     "output_type": "display_data"
    }
   ],
   "source": [
    "# Correlation Analysis\n",
    "\n",
    "from sklearn.preprocessing import scale\n",
    "from sklearn.model_selection import train_test_split\n",
    "import seaborn as sns\n",
    "import matplotlib.pyplot as plt\n",
    "\n",
    "cont_data = dataset[['price', 'points']]\n",
    "\n",
    "corr = cont_data.corr()\n",
    "ax = sns.heatmap(\n",
    "    corr, \n",
    "    vmin=-1, vmax=1, center=0,\n",
    "    cmap=sns.diverging_palette(20, 220, n=200),\n",
    "    square=True\n",
    ")\n",
    "ax.set_xticklabels(\n",
    "    ax.get_xticklabels(),\n",
    "    rotation=45,\n",
    "    horizontalalignment='right'\n",
    ");"
   ]
  },
  {
   "cell_type": "markdown",
   "metadata": {},
   "source": [
    "We do not see any strong correlation among these two numeric values"
   ]
  },
  {
   "cell_type": "code",
   "execution_count": 5,
   "metadata": {},
   "outputs": [
    {
     "data": {
      "text/plain": [
       "<matplotlib.axes._subplots.AxesSubplot at 0x11cfeb150>"
      ]
     },
     "execution_count": 5,
     "metadata": {},
     "output_type": "execute_result"
    },
    {
     "data": {
      "image/png": "[encoded data removed]",
      "text/plain": [
       "<Figure size 1440x864 with 1 Axes>"
      ]
     },
     "metadata": {
      "needs_background": "light"
     },
     "output_type": "display_data"
    }
   ],
   "source": [
    "# missing data analysis\n",
    "import missingno as msno \n",
    "msno.heatmap(dataset) "
   ]
  },
  {
   "cell_type": "markdown",
   "metadata": {},
   "source": [
    "We observe that region is missiong each time the country name is missing which makes sense. We also observe that when the taster name is missin, their twitter handle name is also missing at most times. "
   ]
  },
  {
   "cell_type": "markdown",
   "metadata": {},
   "source": [
    "# Task-1.1 \n",
    "Baseline model for predicting wine quality using only non-text features"
   ]
  },
  {
   "cell_type": "markdown",
   "metadata": {},
   "source": [
    "# Approach:\n",
    "\n",
    "Text data columns are: description, title. (are removed) <br> <br>\n",
    "Taster twitter handle is redundant ( all tasters may not have twitter handle, or there may be null entries as is seem from above.),  <br><br>\n",
    "country, variety, winery, province, designation, taster_name, region1, region2 are dealth with as categorical variables.<br><br>\n",
    "Price is the target variable. Therefore, the baseline mode will have:<br><br>\n",
    "price (numeric data)<br><br>\n",
    "country, variety, winery, province, designation, taster_name, region1, region2 (categorical)<br><br>\n",
    "\n",
    "To be target encoded: designation, province, region1, variety, winery because they contain large number of categories. <br><br>\n",
    "\n",
    "# Preprocessing steps: \n",
    "\n",
    "- Removing outliers from price (numeric data) [Feature Engineering]\n"
   ]
  },
  {
   "cell_type": "code",
   "execution_count": 6,
   "metadata": {},
   "outputs": [
    {
     "data": {
      "image/png": "[encoded data removed]",
      "text/plain": [
       "<Figure size 432x288 with 1 Axes>"
      ]
     },
     "metadata": {
      "needs_background": "light"
     },
     "output_type": "display_data"
    }
   ],
   "source": [
    "import matplotlib.pyplot as plt\n",
    "plt.boxplot(dataset['price'].dropna())\n",
    "plt.title(\"Price box plot\")\n",
    "plt.ylabel(\"Price\")\n",
    "plt.show()"
   ]
  },
  {
   "cell_type": "markdown",
   "metadata": {},
   "source": [
    "We can remove the outliers of price column (all those above upper quartile + 1.5*inter quartile range) since there are not enough data points in that range of target variable (price) that can help train a model well."
   ]
  },
  {
   "cell_type": "code",
   "execution_count": 7,
   "metadata": {},
   "outputs": [
    {
     "name": "stdout",
     "output_type": "stream",
     "text": [
      "Price - upper whishker =  79.0\n",
      "\n",
      "Here is the boxplot of price after the outliers are removed.\n"
     ]
    },
    {
     "data": {
      "image/png": "[encoded data removed]",
      "text/plain": [
       "<Figure size 432x288 with 1 Axes>"
      ]
     },
     "metadata": {
      "needs_background": "light"
     },
     "output_type": "display_data"
    }
   ],
   "source": [
    "stats = dataset['price'].describe()\n",
    "\n",
    "upper_quartile = stats[6]\n",
    "lower_quartile = stats[4]\n",
    "\n",
    "iqr = upper_quartile - lower_quartile\n",
    "upper_whisker = dataset['price'][dataset.price<=upper_quartile+1.5*iqr].max()\n",
    "price_wo_outliers = dataset['price'][dataset.price<=upper_quartile+1.5*iqr]\n",
    "# upper_whisker = data[data<=upper_quartile+1.5*iqr].max()\n",
    "print(\"Price - upper whishker = \", upper_whisker)\n",
    "\n",
    "print(\"\\nHere is the boxplot of price after the outliers are removed.\")\n",
    "import matplotlib.pyplot as plt\n",
    "plt.boxplot(price_wo_outliers)\n",
    "plt.title(\"Price box plot\")\n",
    "plt.ylabel(\"Price\")\n",
    "plt.show()\n",
    "\n",
    "dataset_updated = dataset[dataset.price<=upper_quartile+1.5*iqr]"
   ]
  },
  {
   "cell_type": "code",
   "execution_count": 8,
   "metadata": {},
   "outputs": [
    {
     "name": "stdout",
     "output_type": "stream",
     "text": [
      "actual dataset: 129971\n",
      "updated dataset: 113734\n",
      "Difference:  16237\n"
     ]
    }
   ],
   "source": [
    "print('actual dataset:', len(dataset))\n",
    "print('updated dataset:', len(dataset_updated))\n",
    "print('Difference: ',len(dataset) - len(dataset_updated) )"
   ]
  },
  {
   "cell_type": "markdown",
   "metadata": {},
   "source": [
    "By removing the outliers in 'price' column, we were able to reduce more than 16,000 rows of data."
   ]
  },
  {
   "cell_type": "code",
   "execution_count": 9,
   "metadata": {},
   "outputs": [],
   "source": [
    "#Updating the Dataset\n",
    "X = dataset_updated.drop([\"Unnamed: 0\",\"description\", \"title\", \"taster_twitter_handle\",\"points\"], axis = 1)\n",
    "y = dataset_updated[\"points\"]"
   ]
  },
  {
   "cell_type": "code",
   "execution_count": 10,
   "metadata": {},
   "outputs": [
    {
     "data": {
      "text/plain": [
       "0.38266941112890224"
      ]
     },
     "execution_count": 10,
     "metadata": {},
     "output_type": "execute_result"
    }
   ],
   "source": [
    "#Data Imputation - Dealing with Missing Values (Mean Imputation for Numeric Features and \n",
    "# 'most frequent' value imputation for categorical features)\n",
    "\n",
    "import numpy as np\n",
    "from sklearn.linear_model import LinearRegression\n",
    "from sklearn.impute import SimpleImputer\n",
    "from sklearn.model_selection import train_test_split, cross_val_score\n",
    "from sklearn.compose import ColumnTransformer, make_column_transformer\n",
    "from sklearn.preprocessing import OneHotEncoder\n",
    "from sklearn.pipeline import make_pipeline\n",
    "from category_encoders import TargetEncoder\n",
    "\n",
    "X_train, X_test, y_train, y_test = train_test_split(X, y)\n",
    "#imputation\n",
    "from sklearn.base import TransformerMixin\n",
    "\n",
    "class DataFrameImputer(TransformerMixin):\n",
    "    def __init__(self):\n",
    "        pass\n",
    "    def fit(self, X, y=None):\n",
    "        self.fill = pd.Series([X[c].value_counts().index[0]\n",
    "            if X[c].dtype == np.dtype('O') else X[c].mean() for c in X], index=X.columns)\n",
    "        return self\n",
    "\n",
    "    def transform(self, X, y=None):\n",
    "        self.fill = pd.Series([X[c].value_counts().index[0]\n",
    "            if X[c].dtype == np.dtype('O') else X[c].mean() for c in X], index=X.columns)\n",
    "        return X.fillna(self.fill)\n",
    "\n",
    "X_train = DataFrameImputer().fit_transform(X_train)\n",
    "X_test = DataFrameImputer().transform(X_test)\n",
    "\n",
    "#model\n",
    "categorical = X_train.columns[X_train.dtypes == object]\n",
    "# categorical\n",
    "preprocess = make_column_transformer((TargetEncoder(), ['designation', 'province', 'region_1', 'variety', 'winery']), (OneHotEncoder(handle_unknown = 'ignore'), categorical.drop(['designation', 'province', 'region_1', 'variety', 'winery'])))\n",
    "model_lr = make_pipeline(preprocess, LinearRegression())\n",
    "scores_lr = cross_val_score(model_lr, X_train, y_train)\n",
    "\n",
    "np.mean(scores_lr)"
   ]
  },
  {
   "cell_type": "markdown",
   "metadata": {},
   "source": [
    "The baseline model gives an R^2 value of 0.38."
   ]
  },
  {
   "cell_type": "markdown",
   "metadata": {},
   "source": [
    "# Task-1.2\n",
    "Simple text-based model using a bag-of-words approach and a linear model"
   ]
  },
  {
   "cell_type": "code",
   "execution_count": 11,
   "metadata": {},
   "outputs": [],
   "source": [
    "#Dataset after removing unnecessary features\n",
    "X_t12 = dataset_updated.drop([\"Unnamed: 0\", \"taster_twitter_handle\",\"points\"], axis = 1)\n",
    "X_t12['description+title'] = X_t12['description'] + X_t12['title']\n",
    "y_t12 = dataset_updated[\"points\"]"
   ]
  },
  {
   "cell_type": "code",
   "execution_count": 12,
   "metadata": {},
   "outputs": [],
   "source": [
    "# Data Imputation\n",
    "X_train, X_test, y_train, y_test = train_test_split(X_t12, y_t12)\n",
    "#imputation\n",
    "from sklearn.base import TransformerMixin\n",
    "\n",
    "class DataFrameImputer(TransformerMixin):\n",
    "    def __init__(self):\n",
    "        pass\n",
    "    def fit(self, X, y=None):\n",
    "        self.fill = pd.Series([X[c].value_counts().index[0]\n",
    "            if X[c].dtype == np.dtype('O') else X[c].mean() for c in X], index=X.columns)\n",
    "        return self\n",
    "\n",
    "    def transform(self, X, y=None):\n",
    "        self.fill = pd.Series([X[c].value_counts().index[0]\n",
    "            if X[c].dtype == np.dtype('O') else X[c].mean() for c in X], index=X.columns)\n",
    "        return X.fillna(self.fill)\n",
    "\n",
    "X_train = DataFrameImputer().fit_transform(X_train)\n",
    "X_test = DataFrameImputer().transform(X_test)\n"
   ]
  },
  {
   "cell_type": "code",
   "execution_count": 13,
   "metadata": {},
   "outputs": [
    {
     "data": {
      "text/plain": [
       "0.4454531402447646"
      ]
     },
     "execution_count": 13,
     "metadata": {},
     "output_type": "execute_result"
    }
   ],
   "source": [
    "from sklearn.feature_extraction.text import CountVectorizer\n",
    "from scipy.sparse import hstack\n",
    "\n",
    "vect = CountVectorizer(min_df = 2)\n",
    "X_train_df_title = vect.fit_transform(X_train['title'])\n",
    "X_train_df4 = vect.fit_transform(X_train['description'])\n",
    "X_train_bow_only = hstack([X_train_df4,X_train_df_title])\n",
    "\n",
    "#model\n",
    "lr = LinearRegression().fit(X_train_bow_only, y_train)\n",
    "scores_lr = cross_val_score(lr, X_train_bow_only, y_train) #cross val score\n",
    "np.mean(scores_lr)"
   ]
  },
  {
   "cell_type": "markdown",
   "metadata": {},
   "source": [
    "We get an R^2 value of 0.454 for our BoG + linear model. The score has become better in this case compared to baseline model. "
   ]
  },
  {
   "cell_type": "code",
   "execution_count": 14,
   "metadata": {},
   "outputs": [
    {
     "data": {
      "text/plain": [
       "0.44670022257268877"
      ]
     },
     "execution_count": 14,
     "metadata": {},
     "output_type": "execute_result"
    }
   ],
   "source": [
    "#removing stop words\n",
    "from sklearn.feature_extraction.text import CountVectorizer\n",
    "# print(X_train_df_title.shape)\n",
    "vect = CountVectorizer(min_df = 2, stop_words='english')\n",
    "X_train_df_title_sw = vect.fit_transform(X_train['title'])\n",
    "X_train_df4_sw = vect.fit_transform(X_train['description'])\n",
    "X_train_bow_sw = hstack([X_train_df4_sw,X_train_df_title_sw])\n",
    "\n",
    "#model\n",
    "lr_sw = LinearRegression().fit(X_train_bow_sw, y_train)\n",
    "scores_lr_sw = cross_val_score(lr_sw, X_train_bow_sw, y_train)\n",
    "np.mean(scores_lr_sw)"
   ]
  },
  {
   "cell_type": "markdown",
   "metadata": {},
   "source": [
    "Here, removing stopwords has improved the R^2 value slightly."
   ]
  },
  {
   "cell_type": "code",
   "execution_count": 15,
   "metadata": {},
   "outputs": [
    {
     "data": {
      "text/plain": [
       "0.7143091452735748"
      ]
     },
     "execution_count": 15,
     "metadata": {},
     "output_type": "execute_result"
    }
   ],
   "source": [
    "#trying ridge regression\n",
    "\n",
    "from sklearn.linear_model import Ridge\n",
    "#without removing stop words\n",
    "X_train_bow_only = hstack([X_train_df4,X_train_df_title])\n",
    "ridge = Ridge().fit(X_train_bow_only, y_train)\n",
    "scores_ridge = cross_val_score(ridge, X_train_bow_only, y_train)\n",
    "\n",
    "np.mean(scores_ridge)"
   ]
  },
  {
   "cell_type": "code",
   "execution_count": 16,
   "metadata": {},
   "outputs": [
    {
     "data": {
      "text/plain": [
       "0.7085714339854761"
      ]
     },
     "execution_count": 16,
     "metadata": {},
     "output_type": "execute_result"
    }
   ],
   "source": [
    "#removing stop words -- ridge regression\n",
    "\n",
    "vect = CountVectorizer(min_df = 2, stop_words='english')\n",
    "X_train_df_title_sw = vect.fit_transform(X_train['title'])\n",
    "X_train_df4_sw = vect.fit_transform(X_train['description'])\n",
    "X_train_bow_sw = hstack([X_train_df4_sw,X_train_df_title_sw])\n",
    "\n",
    "#model\n",
    "ridge_sw = Ridge().fit(X_train_bow_sw, y_train)\n",
    "scores_ridge_sw = cross_val_score(ridge_sw, X_train_bow_sw, y_train)\n",
    "np.mean(scores_ridge_sw)"
   ]
  },
  {
   "cell_type": "markdown",
   "metadata": {},
   "source": [
    "Ridge Regression performed better than Linear Regression. We got 71 percent accuracy with Ridge Regression - without removing stop words in the BoW model. To find the best hyperparameters in Ridge Regression, we can perform GridSearch on it as follows:"
   ]
  },
  {
   "cell_type": "code",
   "execution_count": 18,
   "metadata": {},
   "outputs": [
    {
     "name": "stdout",
     "output_type": "stream",
     "text": [
      "Best score:  0.7394245461058908\n",
      "Best parameters:  {'countvectorizer__min_df': 1, 'normalizer': None, 'ridge__alpha': 10.0}\n"
     ]
    }
   ],
   "source": [
    "### GridSearchCV on Ridge Regression\n",
    "\n",
    "from sklearn.model_selection import GridSearchCV\n",
    "from sklearn.linear_model import LogisticRegression\n",
    "from sklearn.feature_extraction.text import CountVectorizer\n",
    "from sklearn.preprocessing import Normalizer\n",
    "from sklearn.pipeline import make_pipeline\n",
    "from sklearn.linear_model import Ridge\n",
    "\n",
    "param_grid = {\"ridge__alpha\": [1.0, 5.0, 10.0, 15.0, 20.0],\n",
    "              \"countvectorizer__min_df\": [1, 2, 3],\n",
    "              \"normalizer\": [None, Normalizer()]\n",
    "             }\n",
    "grid_ridge = GridSearchCV(make_pipeline(CountVectorizer(), Normalizer(), Ridge()),\n",
    "                    param_grid=param_grid, cv=5)\n",
    "grid_ridge.fit(X_train['description+title'], y_train)\n",
    "print(\"Best score: \", grid_ridge.best_score_)\n",
    "print(\"Best parameters: \", grid_ridge.best_params_)"
   ]
  },
  {
   "cell_type": "code",
   "execution_count": 19,
   "metadata": {},
   "outputs": [],
   "source": [
    "import matplotlib.pyplot as plt\n",
    "def plot_graph(X, y, title, xlabel, ylabel, need_log_x, lab):\n",
    "    plt.plot(X, y, label=lab)\n",
    "    if (need_log_x == 1):\n",
    "        plt.xscale('log')\n",
    "    plt.title(title)\n",
    "    plt.xlabel(xlabel)\n",
    "    plt.xticks(np.arange(0, 21, step = 2))\n",
    "    plt.ylabel(ylabel)\n",
    "    plt.grid()\n",
    "    if lab:\n",
    "        plt.legend()"
   ]
  },
  {
   "cell_type": "code",
   "execution_count": 20,
   "metadata": {},
   "outputs": [
    {
     "data": {
      "image/png": "[encoded data removed]",
      "text/plain": [
       "<Figure size 432x288 with 1 Axes>"
      ]
     },
     "metadata": {
      "needs_background": "light"
     },
     "output_type": "display_data"
    }
   ],
   "source": [
    "ridge_vals = [d['ridge__alpha'] for d in grid_ridge.cv_results_['params'][:5]]\n",
    "# plot\n",
    "plot_graph(ridge_vals, grid_ridge.cv_results_['mean_test_score'][:5].tolist(), 'Ridge Regression model', 'alpha', 'R^2', 0, None)"
   ]
  },
  {
   "cell_type": "markdown",
   "metadata": {},
   "source": [
    "We get the best parameter as: alpha = 10."
   ]
  },
  {
   "cell_type": "markdown",
   "metadata": {},
   "source": [
    "# Task-1.3\n",
    "using n-grams, characters, tf-idf rescaling and possibly other ways to tune the BoW\n",
    "model."
   ]
  },
  {
   "cell_type": "code",
   "execution_count": 21,
   "metadata": {},
   "outputs": [
    {
     "data": {
      "text/plain": [
       "0.7591895141758747"
      ]
     },
     "execution_count": 21,
     "metadata": {},
     "output_type": "execute_result"
    }
   ],
   "source": [
    "#n-grams\n",
    "\n",
    "cv = CountVectorizer(ngram_range=(1, 2), stop_words = 'english')\n",
    "X_train_df_title_sw_ng = cv.fit_transform(X_train['title'])\n",
    "X_train_df4_sw_ng = cv.fit_transform(X_train['description'])\n",
    "X_train_bow_sw_ng = hstack([X_train_df4_sw_ng,X_train_df_title_sw_ng])\n",
    "\n",
    "#model\n",
    "ridge = Ridge(alpha = 10).fit(X_train_bow_sw_ng, y_train)\n",
    "scores_ridge = cross_val_score(ridge, X_train_bow_sw_ng, y_train)\n",
    "\n",
    "np.mean(scores_ridge)"
   ]
  },
  {
   "cell_type": "code",
   "execution_count": 22,
   "metadata": {},
   "outputs": [
    {
     "data": {
      "text/plain": [
       "0.7603795587011019"
      ]
     },
     "execution_count": 22,
     "metadata": {},
     "output_type": "execute_result"
    }
   ],
   "source": [
    "#n-grams without removing stop words\n",
    "\n",
    "cv = CountVectorizer(ngram_range=(1, 2))\n",
    "X_train_df_title_ng = cv.fit_transform(X_train['title'])\n",
    "X_train_df4_ng = cv.fit_transform(X_train['description'])\n",
    "X_train_bow_ng = hstack([X_train_df4_ng,X_train_df_title_ng])\n",
    "\n",
    "#model\n",
    "ridge = Ridge(alpha = 10).fit(X_train_bow_ng, y_train)\n",
    "scores_ridge = cross_val_score(ridge, X_train_bow_ng, y_train)\n",
    "\n",
    "np.mean(scores_ridge)"
   ]
  },
  {
   "cell_type": "markdown",
   "metadata": {},
   "source": [
    "N Grams gives better R^2 value (without removing stop words) which is 0.76."
   ]
  },
  {
   "cell_type": "code",
   "execution_count": 23,
   "metadata": {},
   "outputs": [
    {
     "data": {
      "text/plain": [
       "0.6970117283097867"
      ]
     },
     "execution_count": 23,
     "metadata": {},
     "output_type": "execute_result"
    }
   ],
   "source": [
    "#tf-idf\n",
    "\n",
    "from sklearn.feature_extraction.text import TfidfVectorizer, TfidfTransformer\n",
    "cv_tfidf = TfidfVectorizer()\n",
    "X_train_df_title_tfidf = cv_tfidf.fit_transform(X_train['title'])\n",
    "X_train_df4_tfidf = cv_tfidf.fit_transform(X_train['description'])\n",
    "X_train_bow_tfidf = hstack([X_train_df4_tfidf,X_train_df_title_tfidf])\n",
    "\n",
    "#model\n",
    "ridge = Ridge(alpha = 10).fit(X_train_bow_tfidf, y_train)\n",
    "scores_ridge = cross_val_score(ridge, X_train_bow_tfidf, y_train)\n",
    "\n",
    "np.mean(scores_ridge)"
   ]
  },
  {
   "cell_type": "code",
   "execution_count": 24,
   "metadata": {},
   "outputs": [
    {
     "data": {
      "text/plain": [
       "0.7082256895100606"
      ]
     },
     "execution_count": 24,
     "metadata": {},
     "output_type": "execute_result"
    }
   ],
   "source": [
    "#character n-gram (respecting boundaries)\n",
    "cv_cng = CountVectorizer(ngram_range=(2, 3), analyzer=\"char_wb\")\n",
    "\n",
    "X_train_df_title_cng = cv_cng.fit_transform(X_train['title'])\n",
    "X_train_df4_cng = cv_cng.fit_transform(X_train['description'])\n",
    "X_train_bow_cng = hstack([X_train_df4_cng, X_train_df_title_cng])\n",
    "\n",
    "#model\n",
    "ridge = Ridge(alpha = 10).fit(X_train_bow_cng, y_train)\n",
    "scores_ridge = cross_val_score(ridge, X_train_bow_cng, y_train)\n",
    "\n",
    "np.mean(scores_ridge)"
   ]
  },
  {
   "cell_type": "markdown",
   "metadata": {},
   "source": [
    "Best score was obtained for : ridge regression model with n grams. The accuracy obtained is 0.76."
   ]
  },
  {
   "cell_type": "markdown",
   "metadata": {},
   "source": [
    "# Task 1.4\n",
    "Combine the non-text features and the text features. How does adding those features\n",
    "improve upon just using bag-of-words?"
   ]
  },
  {
   "cell_type": "code",
   "execution_count": 25,
   "metadata": {},
   "outputs": [],
   "source": [
    "#Creating new feature combining text data features\n",
    "# X_train[\"description+title\"] = X_train[\"description\"] + X_train[\"title\"]"
   ]
  },
  {
   "cell_type": "code",
   "execution_count": 26,
   "metadata": {},
   "outputs": [
    {
     "data": {
      "text/plain": [
       "0.7778453724152911"
      ]
     },
     "execution_count": 26,
     "metadata": {},
     "output_type": "execute_result"
    }
   ],
   "source": [
    "cat_feature = ['country', 'designation', 'province',\n",
    "'region_1', 'region_2', 'taster_name','variety', 'winery']\n",
    "text_feature = ['description','title']\n",
    "cont_feature = ['price']\n",
    "\n",
    "preprocess = make_column_transformer(('passthrough', cont_feature),(TargetEncoder(), ['designation', 'province', 'region_1', 'variety', 'winery']),\n",
    "(OneHotEncoder(handle_unknown = 'ignore'), ['country','region_2','taster_name']),(CountVectorizer(ngram_range=(1, 2)),'description+title'))\n",
    "model_rr = make_pipeline(preprocess, Ridge(alpha = 10))\n",
    "scores_rr = cross_val_score(model_rr, X_train, y_train)\n",
    "\n",
    "np.mean(scores_rr)\n",
    "# make_pipeline(preprocess).fit_transform(X_train, y_train)"
   ]
  },
  {
   "cell_type": "markdown",
   "metadata": {},
   "source": [
    "The accuracy increased when text-data features (from BoG model) were combined with non-text data features. This can be attributed to the fact that more features were available for the model to learn from. \n",
    "\n",
    "So, let us use this model to check performance on the test set. "
   ]
  },
  {
   "cell_type": "code",
   "execution_count": 28,
   "metadata": {},
   "outputs": [
    {
     "name": "stdout",
     "output_type": "stream",
     "text": [
      "0.7874087455346871\n"
     ]
    }
   ],
   "source": [
    "preprocess_test = make_column_transformer(('passthrough', cont_feature),(TargetEncoder(), ['designation', 'province', 'region_1', 'variety', 'winery']),\n",
    "(OneHotEncoder(handle_unknown = 'ignore'), ['country','region_2','taster_name']),(CountVectorizer(ngram_range=(1, 2)),'description+title'))\n",
    "\n",
    "model_rr_test = make_pipeline(preprocess_test, Ridge(alpha = 10))\n",
    "model_rr_test.fit(X_train, y_train)\n",
    "score_test = model_rr_test.score(X_test, y_test)\n",
    "print(score_test)"
   ]
  },
  {
   "cell_type": "code",
   "execution_count": null,
   "metadata": {},
   "outputs": [],
   "source": []
  }
 ],
 "metadata": {
  "kernelspec": {
   "display_name": "Python 3",
   "language": "python",
   "name": "python3"
  },
  "language_info": {
   "codemirror_mode": {
    "name": "ipython",
    "version": 3
   },
   "file_extension": ".py",
   "mimetype": "text/x-python",
   "name": "python",
   "nbconvert_exporter": "python",
   "pygments_lexer": "ipython3",
   "version": "3.7.4"
  }
 },
 "nbformat": 4,
 "nbformat_minor": 4
}
