{
 "cells": [
  {
   "cell_type": "markdown",
   "metadata": {},
   "source": [
    "## Predicting the price of a used vehicle on craigslist using regression. \n",
    "## Dataset: https://www.kaggle.com/austinreese/craigslist-carstrucks-data \n",
    "## Work done by: Hima Bindu Bhardwaj, Swarna Bharathi Mantena\n",
    "## Models explored: \n",
    " - <b> Linear REgression (baseline)\n",
    " - Linear SVR\n",
    " - Decision Tree\n",
    " - Random Forest\n",
    " - Gradient Boosting\n",
    " - XGBoosting"
   ]
  },
  {
   "cell_type": "markdown",
   "metadata": {},
   "source": [
    "## Task 1 - FEATURES IDENTIFICATION"
   ]
  },
  {
   "cell_type": "code",
   "execution_count": 1,
   "metadata": {},
   "outputs": [
    {
     "name": "stdout",
     "output_type": "stream",
     "text": [
      "Features in the current dataset: Index(['id', 'url', 'region', 'region_url', 'price', 'year', 'manufacturer',\n",
      "       'model', 'condition', 'cylinders', 'fuel', 'odometer', 'title_status',\n",
      "       'transmission', 'vin', 'drive', 'size', 'type', 'paint_color',\n",
      "       'image_url', 'description', 'county', 'state', 'lat', 'long'],\n",
      "      dtype='object')\n"
     ]
    }
   ],
   "source": [
    "import pandas as pd\n",
    "\n",
    "raw_data = pd.read_csv('vehicles.csv')\n",
    "X = raw_data\n",
    "X = X.drop(columns = \"price\")\n",
    "y = raw_data['price']\n",
    "print(\"Features in the current dataset:\", raw_data.columns)"
   ]
  },
  {
   "cell_type": "markdown",
   "metadata": {},
   "source": [
    "The relevant features are 'region', 'year', 'manufacturer',\n",
    "       'model', 'condition', 'cylinders', 'fuel', 'odometer', 'title_status',\n",
    "       'transmission', 'drive', 'size', 'type', 'paint_color', 'lat', 'long'.\n",
    "       \n",
    "       The feature county was removed because all values of county are NULL in the dataset. The rest of the features like url, id, region_url,image_url, and description were removed since they do not hold any relevant information that can help predict car prices. Additionally, variables id and vin are unique and have one to one (strong) correspondence with the target column. Therefore they are considered to be leaky variables (the model will fail to generalize if trained on such features) and it is preferable to remove them. \n",
    "       Note: All entries of vin are actually not unique -- it was found that the cars that have the same value for vin, have all other features identical, except id and region of posting. The statistics to support our decisions are shown below:"
   ]
  },
  {
   "cell_type": "code",
   "execution_count": 2,
   "metadata": {},
   "outputs": [
    {
     "data": {
      "text/plain": [
       "id              509577\n",
       "url             509577\n",
       "region             403\n",
       "region_url         413\n",
       "price            17854\n",
       "year               114\n",
       "manufacturer        43\n",
       "model            35852\n",
       "condition            6\n",
       "cylinders            8\n",
       "fuel                 5\n",
       "odometer        119873\n",
       "title_status         6\n",
       "transmission         3\n",
       "vin             180145\n",
       "drive                3\n",
       "size                 4\n",
       "type                13\n",
       "paint_color         12\n",
       "image_url       349468\n",
       "description     427803\n",
       "county               0\n",
       "state               51\n",
       "lat              51488\n",
       "long             51467\n",
       "dtype: int64"
      ]
     },
     "execution_count": 2,
     "metadata": {},
     "output_type": "execute_result"
    }
   ],
   "source": [
    "raw_data.nunique(axis=0)"
   ]
  },
  {
   "cell_type": "code",
   "execution_count": 3,
   "metadata": {},
   "outputs": [
    {
     "name": "stdout",
     "output_type": "stream",
     "text": [
      "<class 'pandas.core.frame.DataFrame'>\n",
      "RangeIndex: 509577 entries, 0 to 509576\n",
      "Data columns (total 25 columns):\n",
      " #   Column        Non-Null Count   Dtype  \n",
      "---  ------        --------------   -----  \n",
      " 0   id            509577 non-null  int64  \n",
      " 1   url           509577 non-null  object \n",
      " 2   region        509577 non-null  object \n",
      " 3   region_url    509577 non-null  object \n",
      " 4   price         509577 non-null  int64  \n",
      " 5   year          508050 non-null  float64\n",
      " 6   manufacturer  486813 non-null  object \n",
      " 7   model         501588 non-null  object \n",
      " 8   condition     277643 non-null  object \n",
      " 9   cylinders     309894 non-null  object \n",
      " 10  fuel          505592 non-null  object \n",
      " 11  odometer      417253 non-null  float64\n",
      " 12  title_status  506515 non-null  object \n",
      " 13  transmission  505858 non-null  object \n",
      " 14  vin           302152 non-null  object \n",
      " 15  drive         365434 non-null  object \n",
      " 16  size          167574 non-null  object \n",
      " 17  type          368046 non-null  object \n",
      " 18  paint_color   344871 non-null  object \n",
      " 19  image_url     509563 non-null  object \n",
      " 20  description   509561 non-null  object \n",
      " 21  county        0 non-null       float64\n",
      " 22  state         509577 non-null  object \n",
      " 23  lat           499285 non-null  float64\n",
      " 24  long          499285 non-null  float64\n",
      "dtypes: float64(5), int64(2), object(18)\n",
      "memory usage: 97.2+ MB\n",
      "None\n"
     ]
    }
   ],
   "source": [
    "print(raw_data.info())"
   ]
  },
  {
   "cell_type": "markdown",
   "metadata": {},
   "source": [
    "Therefore, the X array now holds:"
   ]
  },
  {
   "cell_type": "code",
   "execution_count": 4,
   "metadata": {},
   "outputs": [
    {
     "data": {
      "text/html": [
       "<div>\n",
       "<style scoped>\n",
       "    .dataframe tbody tr th:only-of-type {\n",
       "        vertical-align: middle;\n",
       "    }\n",
       "\n",
       "    .dataframe tbody tr th {\n",
       "        vertical-align: top;\n",
       "    }\n",
       "\n",
       "    .dataframe thead th {\n",
       "        text-align: right;\n",
       "    }\n",
       "</style>\n",
       "<table border=\"1\" class=\"dataframe\">\n",
       "  <thead>\n",
       "    <tr style=\"text-align: right;\">\n",
       "      <th></th>\n",
       "      <th>region</th>\n",
       "      <th>year</th>\n",
       "      <th>manufacturer</th>\n",
       "      <th>model</th>\n",
       "      <th>condition</th>\n",
       "      <th>cylinders</th>\n",
       "      <th>fuel</th>\n",
       "      <th>odometer</th>\n",
       "      <th>title_status</th>\n",
       "      <th>transmission</th>\n",
       "      <th>drive</th>\n",
       "      <th>size</th>\n",
       "      <th>type</th>\n",
       "      <th>paint_color</th>\n",
       "      <th>state</th>\n",
       "      <th>lat</th>\n",
       "      <th>long</th>\n",
       "    </tr>\n",
       "  </thead>\n",
       "  <tbody>\n",
       "    <tr>\n",
       "      <th>0</th>\n",
       "      <td>salt lake city</td>\n",
       "      <td>2012.0</td>\n",
       "      <td>volkswagen</td>\n",
       "      <td>golf r</td>\n",
       "      <td>excellent</td>\n",
       "      <td>4 cylinders</td>\n",
       "      <td>gas</td>\n",
       "      <td>63500.0</td>\n",
       "      <td>clean</td>\n",
       "      <td>manual</td>\n",
       "      <td>4wd</td>\n",
       "      <td>compact</td>\n",
       "      <td>hatchback</td>\n",
       "      <td>black</td>\n",
       "      <td>ut</td>\n",
       "      <td>40.7372</td>\n",
       "      <td>-111.858</td>\n",
       "    </tr>\n",
       "    <tr>\n",
       "      <th>1</th>\n",
       "      <td>salt lake city</td>\n",
       "      <td>2016.0</td>\n",
       "      <td>ford</td>\n",
       "      <td>f-150</td>\n",
       "      <td>excellent</td>\n",
       "      <td>NaN</td>\n",
       "      <td>gas</td>\n",
       "      <td>10.0</td>\n",
       "      <td>clean</td>\n",
       "      <td>automatic</td>\n",
       "      <td>4wd</td>\n",
       "      <td>NaN</td>\n",
       "      <td>NaN</td>\n",
       "      <td>NaN</td>\n",
       "      <td>ut</td>\n",
       "      <td>40.5881</td>\n",
       "      <td>-111.884</td>\n",
       "    </tr>\n",
       "    <tr>\n",
       "      <th>2</th>\n",
       "      <td>salt lake city</td>\n",
       "      <td>2015.0</td>\n",
       "      <td>gmc</td>\n",
       "      <td>sierra 1500</td>\n",
       "      <td>excellent</td>\n",
       "      <td>NaN</td>\n",
       "      <td>gas</td>\n",
       "      <td>7554.0</td>\n",
       "      <td>clean</td>\n",
       "      <td>automatic</td>\n",
       "      <td>4wd</td>\n",
       "      <td>NaN</td>\n",
       "      <td>NaN</td>\n",
       "      <td>white</td>\n",
       "      <td>ut</td>\n",
       "      <td>40.5881</td>\n",
       "      <td>-111.884</td>\n",
       "    </tr>\n",
       "    <tr>\n",
       "      <th>3</th>\n",
       "      <td>salt lake city</td>\n",
       "      <td>2016.0</td>\n",
       "      <td>ford</td>\n",
       "      <td>f-150</td>\n",
       "      <td>excellent</td>\n",
       "      <td>NaN</td>\n",
       "      <td>gas</td>\n",
       "      <td>10.0</td>\n",
       "      <td>clean</td>\n",
       "      <td>automatic</td>\n",
       "      <td>4wd</td>\n",
       "      <td>NaN</td>\n",
       "      <td>NaN</td>\n",
       "      <td>NaN</td>\n",
       "      <td>ut</td>\n",
       "      <td>40.5881</td>\n",
       "      <td>-111.884</td>\n",
       "    </tr>\n",
       "    <tr>\n",
       "      <th>4</th>\n",
       "      <td>salt lake city</td>\n",
       "      <td>2018.0</td>\n",
       "      <td>ford</td>\n",
       "      <td>f-450</td>\n",
       "      <td>NaN</td>\n",
       "      <td>NaN</td>\n",
       "      <td>diesel</td>\n",
       "      <td>70150.0</td>\n",
       "      <td>clean</td>\n",
       "      <td>automatic</td>\n",
       "      <td>4wd</td>\n",
       "      <td>NaN</td>\n",
       "      <td>pickup</td>\n",
       "      <td>white</td>\n",
       "      <td>ut</td>\n",
       "      <td>40.3744</td>\n",
       "      <td>-104.694</td>\n",
       "    </tr>\n",
       "  </tbody>\n",
       "</table>\n",
       "</div>"
      ],
      "text/plain": [
       "           region    year manufacturer        model  condition    cylinders  \\\n",
       "0  salt lake city  2012.0   volkswagen       golf r  excellent  4 cylinders   \n",
       "1  salt lake city  2016.0         ford        f-150  excellent          NaN   \n",
       "2  salt lake city  2015.0          gmc  sierra 1500  excellent          NaN   \n",
       "3  salt lake city  2016.0         ford        f-150  excellent          NaN   \n",
       "4  salt lake city  2018.0         ford        f-450        NaN          NaN   \n",
       "\n",
       "     fuel  odometer title_status transmission drive     size       type  \\\n",
       "0     gas   63500.0        clean       manual   4wd  compact  hatchback   \n",
       "1     gas      10.0        clean    automatic   4wd      NaN        NaN   \n",
       "2     gas    7554.0        clean    automatic   4wd      NaN        NaN   \n",
       "3     gas      10.0        clean    automatic   4wd      NaN        NaN   \n",
       "4  diesel   70150.0        clean    automatic   4wd      NaN     pickup   \n",
       "\n",
       "  paint_color state      lat     long  \n",
       "0       black    ut  40.7372 -111.858  \n",
       "1         NaN    ut  40.5881 -111.884  \n",
       "2       white    ut  40.5881 -111.884  \n",
       "3         NaN    ut  40.5881 -111.884  \n",
       "4       white    ut  40.3744 -104.694  "
      ]
     },
     "execution_count": 4,
     "metadata": {},
     "output_type": "execute_result"
    }
   ],
   "source": [
    "X = raw_data.drop(['description', 'id', 'price','url', 'vin', 'region_url', 'image_url', 'county'], axis = 1)\n",
    "X.head()"
   ]
  },
  {
   "cell_type": "markdown",
   "metadata": {},
   "source": [
    "\n",
    "Detecting and preventing Target leak\n",
    "\n",
    "Target leak occurs when we train our model on a dataset that includes information that would not be available at the time of prediction. In this case, the feature set holds a feature that has a strong correlation with the target value. We tested the correlation of all continuous variables with the target values and found no features to have strong correlation with the target variable."
   ]
  },
  {
   "cell_type": "code",
   "execution_count": 5,
   "metadata": {},
   "outputs": [
    {
     "data": {
      "image/png": "[encoded data removed]",
      "text/plain": [
       "<Figure size 432x288 with 2 Axes>"
      ]
     },
     "metadata": {
      "needs_background": "light"
     },
     "output_type": "display_data"
    }
   ],
   "source": [
    "from sklearn.preprocessing import scale\n",
    "from sklearn.model_selection import train_test_split\n",
    "import seaborn as sns\n",
    "import matplotlib.pyplot as plt\n",
    "\n",
    "dataset = raw_data.drop(['description', 'id', 'url', 'vin', 'region_url', 'image_url', 'county'], axis = 1)\n",
    "cont = dataset.columns[dataset.dtypes != object]\n",
    "# df = df[cont]\n",
    "\n",
    "corr = dataset.corr()\n",
    "ax = sns.heatmap(\n",
    "    corr, \n",
    "    vmin=-1, vmax=1, center=0,\n",
    "    cmap=sns.diverging_palette(20, 220, n=200),\n",
    "    square=True\n",
    ")\n",
    "ax.set_xticklabels(\n",
    "    ax.get_xticklabels(),\n",
    "    rotation=45,\n",
    "    horizontalalignment='right'\n",
    ");"
   ]
  },
  {
   "cell_type": "code",
   "execution_count": 6,
   "metadata": {
    "colab": {
     "base_uri": "https://localhost:8080/",
     "height": 34
    },
    "colab_type": "code",
    "id": "Hl1-WxknGrx-",
    "outputId": "bf7ce6d9-7298-40dd-f4e8-afad4149d87d"
   },
   "outputs": [
    {
     "data": {
      "text/plain": [
       "Index(['year', 'odometer', 'lat', 'long'], dtype='object')"
      ]
     },
     "execution_count": 6,
     "metadata": {},
     "output_type": "execute_result"
    }
   ],
   "source": [
    "cont = X.columns[X.dtypes != object]\n",
    "cont"
   ]
  },
  {
   "cell_type": "code",
   "execution_count": 0,
   "metadata": {
    "colab": {
     "base_uri": "https://localhost:8080/",
     "height": 999
    },
    "colab_type": "code",
    "id": "BHJ3B_MbADpH",
    "outputId": "1959c816-9997-4f89-b958-8ee3254ce3b4"
   },
   "outputs": [
    {
     "data": {
      "text/plain": [
       "[Text(0, 0.5, 'Frequency'),\n",
       " Text(0.5, 0, 'long'),\n",
       " Text(0.5, 1.0, 'Freq Dist of long feature')]"
      ]
     },
     "execution_count": 8,
     "metadata": {
      "tags": []
     },
     "output_type": "execute_result"
    },
    {
     "data": {
      "image/png": "[encoded data removed]",
      "text/plain": [
       "<Figure size 1440x1152 with 4 Axes>"
      ]
     },
     "metadata": {
      "tags": []
     },
     "output_type": "display_data"
    }
   ],
   "source": [
    "# Histograms\n",
    "\n",
    "\n",
    "import matplotlib.pyplot as plt\n",
    "df = dataset\n",
    "cont = X.columns[X.dtypes != object]\n",
    "fig,axes=plt.subplots(2,2,figsize=(20,16))\n",
    "#Continuos Variable 1\n",
    "axes[0,0].hist(df[cont[0]].dropna(),bins='auto')\n",
    "axes[0,0].set(title='Freq Dist of Year feature',ylabel='Frequency',xlabel='Year')\n",
    "\n",
    "#Continuos Variable 2\n",
    "axes[0,1].hist(df[cont[1]].dropna(),bins='auto')\n",
    "axes[0,1].set(title='Freq Dist of Odometer feature',ylabel='Frequency',xlabel='Odometer')\n",
    "\n",
    "# #Continuos Variable 3\n",
    "axes[1,0].hist(df[cont[2]].dropna(),bins='auto')\n",
    "axes[1,0].set(title='Freq Dist of lat feature',ylabel='Frequency',xlabel='lat')\n",
    "\n",
    "# #Continuos Variable 4\n",
    "axes[1,1].hist(df[cont[3]].dropna(),bins='auto')\n",
    "axes[1,1].set(title='Freq Dist of long feature',ylabel='Frequency',xlabel='long')"
   ]
  },
  {
   "cell_type": "markdown",
   "metadata": {},
   "source": [
    "## Task 2 - PREPROCESSING AND BASELINE MODEL\n",
    "\n",
    "\n",
    "Some entries have price equal to 0 which means they were listed on craigslist with a price of 0. It was also seen that this was the case eventhough their condition is listed as 'excellent'.Eventhough this may infact be true, for the purpose of this assignment, we are deleting all rows that have price 0."
   ]
  },
  {
   "cell_type": "code",
   "execution_count": 7,
   "metadata": {},
   "outputs": [],
   "source": [
    "raw_data.drop(raw_data[raw_data['price'] == 0 ].index , inplace=True)\n",
    "# Separating X_raw and y_raw\n",
    "raw_data = raw_data[raw_data.price != 0]\n",
    "X_raw = raw_data.drop(['description', 'id', 'url', 'vin', 'region_url', 'image_url', 'county', 'price'], axis = 1)\n",
    "y_raw = raw_data['price']"
   ]
  },
  {
   "cell_type": "markdown",
   "metadata": {},
   "source": [
    "#### Baseline Model\n",
    "\n",
    "Building a baseline model first by dropping all columns that have missing values."
   ]
  },
  {
   "cell_type": "code",
   "execution_count": 8,
   "metadata": {},
   "outputs": [
    {
     "data": {
      "text/plain": [
       "-0.04492744607149093"
      ]
     },
     "execution_count": 8,
     "metadata": {},
     "output_type": "execute_result"
    }
   ],
   "source": [
    "from sklearn.linear_model import LinearRegression\n",
    "from sklearn.impute import SimpleImputer\n",
    "import numpy as np\n",
    "from sklearn.model_selection import train_test_split, cross_val_score\n",
    "from sklearn.compose import ColumnTransformer, make_column_transformer\n",
    "from sklearn.preprocessing import OneHotEncoder\n",
    "from sklearn.pipeline import make_pipeline\n",
    "from category_encoders import TargetEncoder\n",
    "\n",
    "X_train, X_test, y_train, y_test = train_test_split(X_raw, y_raw)\n",
    "nan_columns = X_raw.columns[X_raw.isnull().any()]\n",
    "X_drop_columns = X_train.drop(nan_columns, axis = 1)\n",
    "categorical = X_drop_columns.columns[X_drop_columns.dtypes == object]\n",
    "\n",
    "preprocess = make_column_transformer((TargetEncoder(), ['region']), (OneHotEncoder(handle_unknown = 'ignore'), categorical.drop(['region'])))\n",
    "model_lr = make_pipeline(preprocess, LinearRegression())\n",
    "scores_lr = cross_val_score(model_lr, X_drop_columns, y_train)\n",
    "\n",
    "np.mean(scores_lr)"
   ]
  },
  {
   "cell_type": "markdown",
   "metadata": {},
   "source": [
    "Negative R^2 value implies that the fit is worse than just fitting a horizontal line. Therefore, this baseline model (that contains only 'region' as its X feature and has deleted all other features) gives very poor results."
   ]
  },
  {
   "cell_type": "markdown",
   "metadata": {},
   "source": [
    "#### Exploring Patterns of missing data "
   ]
  },
  {
   "cell_type": "code",
   "execution_count": 9,
   "metadata": {},
   "outputs": [
    {
     "data": {
      "text/plain": [
       "<matplotlib.axes._subplots.AxesSubplot at 0x1213590d0>"
      ]
     },
     "execution_count": 9,
     "metadata": {},
     "output_type": "execute_result"
    },
    {
     "data": {
      "image/png": "[encoded data removed]",
      "text/plain": [
       "<Figure size 1800x720 with 2 Axes>"
      ]
     },
     "metadata": {
      "needs_background": "light"
     },
     "output_type": "display_data"
    }
   ],
   "source": [
    "import missingno as msno \n",
    "msno.matrix(X) "
   ]
  },
  {
   "cell_type": "markdown",
   "metadata": {},
   "source": [
    "The msno.matrix nullity matrix shown above is a data-dense display that visualizes patterns in data completion. Nullity is defined as - whether a particular variable is filled in or not. The sparkline at right summarizes the general shape of the data completeness and points out the rows with the maximum and minimum nullity in the dataset.\n",
    "\n",
    "This data in particular seems to have no missing values in only three columns. There are no peculiar pattern observable, the data seems to be missing at random in a preliminary observation. If we observe the sparkline, the minimum number of non-missing values in a row is 2 and not 3."
   ]
  },
  {
   "cell_type": "code",
   "execution_count": 10,
   "metadata": {},
   "outputs": [
    {
     "data": {
      "text/plain": [
       "<matplotlib.axes._subplots.AxesSubplot at 0x10809a850>"
      ]
     },
     "execution_count": 10,
     "metadata": {},
     "output_type": "execute_result"
    },
    {
     "data": {
      "image/png": "[encoded data removed]",
      "text/plain": [
       "<Figure size 1728x720 with 3 Axes>"
      ]
     },
     "metadata": {
      "needs_background": "light"
     },
     "output_type": "display_data"
    }
   ],
   "source": [
    "# Visualize the number of missing \n",
    "# values as a bar chart \n",
    "msno.bar(X) "
   ]
  },
  {
   "cell_type": "markdown",
   "metadata": {},
   "source": [
    "**msno.bar** is a simple visualization of nullity by column. Bar provides the same information as matrix, but in a simpler format.\n",
    "\n",
    "Now, as you can see on the scale to the right, the maximum number of rows is 465998. From the bars, it is evident that only two columns are with out any missing values. However, this graph does not give information about the maximum and minimum nullity in the dataset. "
   ]
  },
  {
   "cell_type": "code",
   "execution_count": 11,
   "metadata": {},
   "outputs": [
    {
     "data": {
      "text/plain": [
       "<matplotlib.axes._subplots.AxesSubplot at 0x11b4182d0>"
      ]
     },
     "execution_count": 11,
     "metadata": {},
     "output_type": "execute_result"
    },
    {
     "data": {
      "image/png": "[encoded data removed]",
      "text/plain": [
       "<Figure size 1440x864 with 1 Axes>"
      ]
     },
     "metadata": {
      "needs_background": "light"
     },
     "output_type": "display_data"
    }
   ],
   "source": [
    "# Visualize the correlation between the number of \n",
    "# missing values in different columns as a heatmap \n",
    "msno.heatmap(X) "
   ]
  },
  {
   "cell_type": "markdown",
   "metadata": {},
   "source": [
    "The **missingno** correlation heatmap measures nullity correlation: how strongly the presence or absence of one variable affects the presence of another.\n",
    "\n",
    "Nullity correlation ranges from -1 (if one variable appears the other definitely does not) to 0 (variables appearing or not appearing have no effect on one another) to 1 (if one variable appears the other definitely also does). From the above heatmap we see that most of the features have a correlation of less than 0.5. Only 5 combinations of features have a correlation of 0.5. One combination has a correlation of 0.6 and one combination of latitude and longitude have correlation of 1.\n",
    "\n",
    "Variables that are always full or always empty have no meaningful correlation, and so are silently removed from the visualization—in this case for instance the *region* column, which is completely filled, is not included.\n",
    "\n",
    "\n",
    "Therefore, from our exploration of patterns in missing data, we found no strong evidence to modify the dataset or its features."
   ]
  },
  {
   "cell_type": "markdown",
   "metadata": {},
   "source": [
    "## TASK 3 - FEATURE ENGINEERING\n",
    "\n",
    "Performing more in-depth preprocessing and data cleaning."
   ]
  },
  {
   "cell_type": "code",
   "execution_count": 12,
   "metadata": {},
   "outputs": [
    {
     "data": {
      "image/png": "[encoded data removed]",
      "text/plain": [
       "<Figure size 432x288 with 1 Axes>"
      ]
     },
     "metadata": {
      "needs_background": "light"
     },
     "output_type": "display_data"
    }
   ],
   "source": [
    "# Target variable \n",
    "import matplotlib.pyplot as plt\n",
    "plt.boxplot(y_raw)\n",
    "plt.title(\"Price box plot\")\n",
    "plt.ylabel(\"Price\")\n",
    "plt.show()"
   ]
  },
  {
   "cell_type": "markdown",
   "metadata": {},
   "source": [
    "We can remove the outliers of price column (all those above upper quartile + 1.5*inter quartile range) since there are not enough data points in that range of target variable (price) that can help train a model well."
   ]
  },
  {
   "cell_type": "code",
   "execution_count": 13,
   "metadata": {},
   "outputs": [
    {
     "name": "stdout",
     "output_type": "stream",
     "text": [
      "Price - upper whishker =  39875\n",
      "\n",
      "Here is the boxplot of price after the outliers are removed.\n"
     ]
    },
    {
     "data": {
      "image/png": "[encoded data removed]",
      "text/plain": [
       "<Figure size 432x288 with 1 Axes>"
      ]
     },
     "metadata": {
      "needs_background": "light"
     },
     "output_type": "display_data"
    }
   ],
   "source": [
    "stats = raw_data['price'].describe()\n",
    "\n",
    "upper_quartile = stats[6]\n",
    "lower_quartile = stats[4]\n",
    "\n",
    "iqr = upper_quartile - lower_quartile\n",
    "upper_whisker = raw_data['price'][raw_data.price<=upper_quartile+1.5*iqr].max()\n",
    "y_raw_wo_outliers = raw_data['price'][raw_data.price<=upper_quartile+1.5*iqr]\n",
    "# upper_whisker = data[data<=upper_quartile+1.5*iqr].max()\n",
    "print(\"Price - upper whishker = \", upper_whisker)\n",
    "\n",
    "print(\"\\nHere is the boxplot of price after the outliers are removed.\")\n",
    "import matplotlib.pyplot as plt\n",
    "plt.boxplot(y_raw_wo_outliers)\n",
    "plt.title(\"Price box plot\")\n",
    "plt.ylabel(\"Price\")\n",
    "plt.show()\n",
    "\n",
    "dataset_y_updated = dataset[dataset.price<=upper_quartile+1.5*iqr]\n",
    "# dataset_y_updated.head()\n",
    "# dataset_y_updated.shape"
   ]
  },
  {
   "cell_type": "markdown",
   "metadata": {},
   "source": [
    "Next, we check for outliers in the features."
   ]
  },
  {
   "cell_type": "code",
   "execution_count": 14,
   "metadata": {},
   "outputs": [
    {
     "data": {
      "image/png": "[encoded data removed]",
      "text/plain": [
       "<Figure size 1440x720 with 4 Axes>"
      ]
     },
     "metadata": {
      "needs_background": "light"
     },
     "output_type": "display_data"
    }
   ],
   "source": [
    "### Features Analysis using Exploration\n",
    "#1. Continuous features -- histogram?\n",
    "cont = X_raw.columns[X_raw.dtypes != object]\n",
    "import matplotlib.pyplot as plt\n",
    "\n",
    "fig, axes = plt.subplots(2,2, figsize=(20, 10))\n",
    "\n",
    "counter = 0\n",
    "for i in range(2):\n",
    "    for j in range(2):\n",
    "\n",
    "        ax1 = axes[i][j]\n",
    "\n",
    "        # Plot when we have data\n",
    "        if counter < len(cont):\n",
    "            ax1.boxplot(raw_data[cont[counter]].dropna())\n",
    "            ax1.set_xlabel(cont[counter])\n",
    "            \n",
    "        else:\n",
    "            ax1.set_axis_off()\n",
    "            \n",
    "        counter += 1\n",
    "\n",
    "plt.show()"
   ]
  },
  {
   "cell_type": "markdown",
   "metadata": {},
   "source": [
    "We observe many outliers in the boxplot of 'years' (below the lower whisker). Since car prices will depend more on the current or recent market condition, it is logical to remove the outliers that appear below the lower whisker. "
   ]
  },
  {
   "cell_type": "code",
   "execution_count": 15,
   "metadata": {},
   "outputs": [
    {
     "name": "stdout",
     "output_type": "stream",
     "text": [
      "Year feature - lower whishker = 1993.0\n",
      "\n",
      "Here is the boxplot of year after the outliers below lower whishker are removed.\n"
     ]
    },
    {
     "data": {
      "image/png": "[encoded data removed]",
      "text/plain": [
       "<Figure size 432x288 with 1 Axes>"
      ]
     },
     "metadata": {
      "needs_background": "light"
     },
     "output_type": "display_data"
    }
   ],
   "source": [
    "# checking year feature\n",
    "stats = raw_data['year'].describe()\n",
    "\n",
    "upper_quartile = stats[6]\n",
    "lower_quartile = stats[4]\n",
    "\n",
    "iqr = upper_quartile - lower_quartile\n",
    "lower_whisker = raw_data['year'][raw_data.year>=lower_quartile-1.5*iqr].min()\n",
    "print(\"Year feature - lower whishker =\", lower_whisker)\n",
    "\n",
    "dataset_year_updated = dataset_y_updated[dataset_y_updated.year>=lower_quartile-1.5*iqr]\n",
    "print(\"\\nHere is the boxplot of year after the outliers below lower whishker are removed.\")\n",
    "import matplotlib.pyplot as plt\n",
    "plt.boxplot(dataset_year_updated['year'])\n",
    "plt.title(\"Year box plot\")\n",
    "plt.ylabel(\"Year\")\n",
    "plt.show()"
   ]
  },
  {
   "cell_type": "markdown",
   "metadata": {},
   "source": [
    "We find that the lower whisker corresponds to the year 1993. Hence, the updated dataset contains data points corresponding to years after 1993.\n",
    "\n",
    "The dataset contains years after 2020 as well which is an impossible data point to have. Hence we filter out these as well."
   ]
  },
  {
   "cell_type": "code",
   "execution_count": 16,
   "metadata": {},
   "outputs": [],
   "source": [
    "dataset_year_updated = dataset_year_updated[dataset_year_updated.year<=2020]"
   ]
  },
  {
   "cell_type": "code",
   "execution_count": 17,
   "metadata": {},
   "outputs": [
    {
     "name": "stdout",
     "output_type": "stream",
     "text": [
      "Odometer feature - upper whishker = 274000\n",
      "\n",
      "Here is the boxplot of odometer after the outliers above upper whishker are removed.\n"
     ]
    },
    {
     "data": {
      "image/png": "[encoded data removed]",
      "text/plain": [
       "<Figure size 432x288 with 1 Axes>"
      ]
     },
     "metadata": {
      "needs_background": "light"
     },
     "output_type": "display_data"
    }
   ],
   "source": [
    "# Odometer\n",
    "# checking year feature\n",
    "stats = raw_data['odometer'].describe()\n",
    "\n",
    "upper_quartile = stats[6]\n",
    "lower_quartile = stats[4]\n",
    "\n",
    "iqr = upper_quartile - lower_quartile\n",
    "upper_whisker = raw_data['price'][raw_data.price<=upper_quartile+1.5*iqr].max()\n",
    "print(\"Odometer feature - upper whishker =\", upper_whisker)\n",
    "\n",
    "dataset_odo_updated = dataset_year_updated[dataset_year_updated.odometer<=upper_quartile+1.5*iqr]\n",
    "print(\"\\nHere is the boxplot of odometer after the outliers above upper whishker are removed.\")\n",
    "import matplotlib.pyplot as plt\n",
    "plt.boxplot(dataset_odo_updated['odometer'])\n",
    "plt.title(\"Odometer box plot\")\n",
    "plt.ylabel(\"Odometer\")\n",
    "plt.show()"
   ]
  },
  {
   "cell_type": "markdown",
   "metadata": {},
   "source": [
    "We do not remove outlier as visible in the boxplot of latitude and longitude values since it does not makes sense to remove values representing locations and not numeric features that help predict the target variable."
   ]
  },
  {
   "cell_type": "code",
   "execution_count": 18,
   "metadata": {},
   "outputs": [],
   "source": [
    "#Updating X and y after preprocessing\n",
    "\n",
    "X = dataset_odo_updated.drop('price', axis=1)\n",
    "y = dataset_odo_updated['price']"
   ]
  },
  {
   "cell_type": "markdown",
   "metadata": {},
   "source": [
    "#### Imputation\n",
    "\n",
    "Now, we discuss imputing the missing values. Columns of categorical data type can be imputed with the most frequent value in column. Columns of continuous type can be imputed with mean of column. <b> It is important to note that all preprocessing including imputation should be done after train test split to avoid data leakage.</b> One way is to perform imputation in the (sklearn) pipeline as mentioned above after splitting the data into train and test sets. Since it was taking a lot of time when the preprocessing was done in the pipe each time, we decided to split the train and test data, impute the train and test data sets and then use these for each model we wish to fit."
   ]
  },
  {
   "cell_type": "code",
   "execution_count": 19,
   "metadata": {},
   "outputs": [],
   "source": [
    "X_train_main, X_test_main, y_train_main, y_test_main = train_test_split(X, y)\n",
    "from sklearn.base import TransformerMixin\n",
    "\n",
    "class DataFrameImputer(TransformerMixin):\n",
    "    def __init__(self):\n",
    "        pass\n",
    "    def fit(self, X, y=None):\n",
    "        self.fill = pd.Series([X[c].value_counts().index[0]\n",
    "            if X[c].dtype == np.dtype('O') else X[c].mean() for c in X], index=X.columns)\n",
    "        return self\n",
    "\n",
    "    def transform(self, X, y=None):\n",
    "        return X.fillna(self.fill)\n",
    "\n",
    "X_train_main = DataFrameImputer().fit_transform(X_train_main)\n",
    "X_test_main = DataFrameImputer().transform(X_test_main)"
   ]
  },
  {
   "cell_type": "markdown",
   "metadata": {},
   "source": [
    "Running the Linear Regression model again on imputed data."
   ]
  },
  {
   "cell_type": "code",
   "execution_count": 20,
   "metadata": {},
   "outputs": [
    {
     "data": {
      "text/plain": [
       "0.5323353842981273"
      ]
     },
     "execution_count": 20,
     "metadata": {},
     "output_type": "execute_result"
    }
   ],
   "source": [
    "\n",
    "categorical = X_train_main.columns[X_train_main.dtypes == object]\n",
    "# continuous = X_train.columns[X_train.dtypes != object]\n",
    "\n",
    "preprocess = make_column_transformer((TargetEncoder(), ['region', 'model']),(OneHotEncoder(handle_unknown = 'ignore'), categorical.drop(['region', 'model'])), remainder = \"passthrough\")\n",
    "model_lr = make_pipeline(preprocess, LinearRegression())\n",
    "scores_lr = cross_val_score(model_lr, X_train_main, y_train_main)\n",
    "\n",
    "np.mean(scores_lr)"
   ]
  },
  {
   "cell_type": "markdown",
   "metadata": {},
   "source": [
    "The accuracy seems to have improved after imputation. Therefore, we can say that our data imputation (replacing categorical variables with most frequent values, and mean imputation of continuous variables) and data cleaning result in better accuracy."
   ]
  },
  {
   "cell_type": "markdown",
   "metadata": {},
   "source": [
    "Since the number of data points is huge, we subsample data in a stratified manner so that the categories are preserved in the subsampled data."
   ]
  },
  {
   "cell_type": "code",
   "execution_count": 21,
   "metadata": {},
   "outputs": [
    {
     "name": "stdout",
     "output_type": "stream",
     "text": [
      "(4208, 17)\n",
      "(4208,)\n"
     ]
    }
   ],
   "source": [
    "#resampling\n",
    "from sklearn.utils import resample\n",
    "X_train, y_train = resample(X_train_main , y_train_main, random_state=0, n_samples=int(X_train_main.shape[0]/70))\n",
    "X_test, y_test = resample(X_test_main , y_test_main, random_state=0, n_samples=int(X_test_main.shape[0]/70))\n",
    "print(X_train.shape)\n",
    "print(y_train.shape)"
   ]
  },
  {
   "cell_type": "markdown",
   "metadata": {},
   "source": [
    "## SAMPLE 1 (SIZE divided by 70)"
   ]
  },
  {
   "cell_type": "markdown",
   "metadata": {},
   "source": [
    "Checking whether adding interactions between the features helps.\n",
    "\n",
    "Encoding the categorical variables region and model using target encoding since they have large number of categories. Encoding them through one hot encoding will result in a extremely huge dataset."
   ]
  },
  {
   "cell_type": "code",
   "execution_count": 22,
   "metadata": {},
   "outputs": [
    {
     "data": {
      "text/plain": [
       "0.44684096998210093"
      ]
     },
     "execution_count": 22,
     "metadata": {},
     "output_type": "execute_result"
    }
   ],
   "source": [
    "#Input matrix for 2 degree\n",
    "\n",
    "from sklearn.preprocessing import PolynomialFeatures\n",
    "\n",
    "# X_train, X_test, y_train, y_test = train_test_split(X_resampled, y_resampled)\n",
    "categorical = X_train.columns[X_train.dtypes == object]\n",
    "\n",
    "\n",
    "preprocess = make_column_transformer((TargetEncoder(), ['region', 'model']),(OneHotEncoder(handle_unknown = 'ignore'), categorical.drop(['region', 'model'])), remainder = \"passthrough\")\n",
    "model_lr = make_pipeline(preprocess, PolynomialFeatures(degree =2), LinearRegression())\n",
    "scores_lr = cross_val_score(model_lr, X_train, y_train)\n",
    "\n",
    "np.mean(scores_lr)"
   ]
  },
  {
   "cell_type": "markdown",
   "metadata": {},
   "source": [
    "We were unable to fit polynomial features of degree 3 (due to memory limitation error) and on camparing degree 1 and 2, we find that features with degree 1 fit better on linear regression. The best accuracy is 0.53."
   ]
  },
  {
   "cell_type": "markdown",
   "metadata": {},
   "source": [
    "## Task 4 - ANY MODEL\n",
    "\n",
    "We chose to explore four different models. "
   ]
  },
  {
   "cell_type": "code",
   "execution_count": 23,
   "metadata": {},
   "outputs": [],
   "source": [
    "#helper plot function for upcoming plotting\n",
    "\n",
    "import matplotlib.pyplot as plt\n",
    "def plot_graph(X, y, title, xlabel, ylabel, need_log_x, lab):\n",
    "    plt.plot(X, y, label=lab)\n",
    "    if (need_log_x == 1):\n",
    "        plt.xscale('log')\n",
    "    plt.title(title)\n",
    "    plt.xlabel(xlabel)\n",
    "    plt.ylabel(ylabel)\n",
    "    plt.grid()\n",
    "    if lab:\n",
    "        plt.legend()\n",
    "        \n",
    "preprocess_scaler = make_column_transformer((TargetEncoder(), ['region', 'model']),(OneHotEncoder(handle_unknown = 'ignore'), categorical_ohe),\n",
    "(StandardScaler(), ~categorical_ohe), remainder = \"passthrough\")\n",
    "preprocess = make_column_transformer((TargetEncoder(), ['region', 'model']),(OneHotEncoder(handle_unknown = 'ignore'), categorical.drop(['region', 'model'])), remainder = \"passthrough\")"
   ]
  },
  {
   "cell_type": "code",
   "execution_count": 24,
   "metadata": {},
   "outputs": [
    {
     "name": "stdout",
     "output_type": "stream",
     "text": [
      "tuned hyperparameters :(best parameters)  {'linearsvr__C': 0.0001}\n",
      "accuracy : 0.13022668728559347\n"
     ]
    }
   ],
   "source": [
    "# GridSearch on Linear SVR (Linear)\n",
    "import warnings\n",
    "from sklearn.exceptions import ConvergenceWarning\n",
    "warnings.filterwarnings(action='ignore', category=ConvergenceWarning)\n",
    "\n",
    "from sklearn.svm import LinearSVR\n",
    "from sklearn.preprocessing import OneHotEncoder, StandardScaler\n",
    "from sklearn.model_selection import cross_val_score, GridSearchCV\n",
    "\n",
    "# categorical_ohe = ['manufacturer', 'condition', 'cylinders', 'fuel', 'title_status',\n",
    "#        'transmission', 'drive', 'size', 'type', 'paint_color','state']\n",
    "categorical_ohe = X_train.dtypes == object\n",
    "\n",
    "model_svr = make_pipeline(preprocess_scaler, LinearSVR())\n",
    "param_grid = {'linearsvr__C':[0.0001,0.001,0.01,0.1,1]}\n",
    "grid_svr = GridSearchCV(model_svr,param_grid = param_grid,return_train_score=True)\n",
    "grid_svr.fit(X_train,y_train)\n",
    "print(\"tuned hyperparameters :(best parameters) \",grid_svr.best_params_)\n",
    "print(\"accuracy :\",grid_svr.best_score_)"
   ]
  },
  {
   "cell_type": "code",
   "execution_count": 25,
   "metadata": {},
   "outputs": [
    {
     "name": "stdout",
     "output_type": "stream",
     "text": [
      "Support Vector Regressor - best parameters: {'linearsvr__C': 0.0001}\n",
      "Support Vector Regressor - best mean cross-validation score: 0.1302\n"
     ]
    },
    {
     "data": {
      "image/png": "[encoded data removed]",
      "text/plain": [
       "<Figure size 432x288 with 1 Axes>"
      ]
     },
     "metadata": {
      "needs_background": "light"
     },
     "output_type": "display_data"
    }
   ],
   "source": [
    "svr_vals = [d['linearsvr__C'] for d in grid_svr.cv_results_['params']]\n",
    "# plot\n",
    "plot_graph(svr_vals, grid_svr.cv_results_['mean_test_score'].tolist(), 'Support Vector Regressor model - Degree 1', 'Max Depth', 'R^2', 1, None)\n",
    "\n",
    "\n",
    "print(\"Support Vector Regressor - best parameters: {}\".format(grid_svr.best_params_))\n",
    "print(\"Support Vector Regressor - best mean cross-validation score: {:.4f}\".format(grid_svr.best_score_))"
   ]
  },
  {
   "cell_type": "code",
   "execution_count": 27,
   "metadata": {},
   "outputs": [
    {
     "data": {
      "text/plain": [
       "-2.318351327749881"
      ]
     },
     "execution_count": 27,
     "metadata": {},
     "output_type": "execute_result"
    }
   ],
   "source": [
    "#Linear SVR (Quadratic) with the best C on previous grid search\n",
    "\n",
    "model_svr2 = make_pipeline(preprocess_scaler, PolynomialFeatures(degree =2), LinearSVR(C = 0.001))\n",
    "scores_svr2 = cross_val_score(model_svr2, X_train, y_train)\n",
    "\n",
    "np.mean(scores_svr2)"
   ]
  },
  {
   "cell_type": "markdown",
   "metadata": {},
   "source": [
    "For Linear SVR, we find that features with degree 1 fit better. The best accuracy is 0.1302"
   ]
  },
  {
   "cell_type": "code",
   "execution_count": 28,
   "metadata": {},
   "outputs": [
    {
     "name": "stdout",
     "output_type": "stream",
     "text": [
      "Decision Tree Regressor - best parameters: {'decisiontreeregressor__max_depth': 5}\n",
      "Decision Tree Regressor - best mean cross-validation score: 0.3241\n"
     ]
    },
    {
     "data": {
      "image/png": "[encoded data removed]",
      "text/plain": [
       "<Figure size 432x288 with 1 Axes>"
      ]
     },
     "metadata": {
      "needs_background": "light"
     },
     "output_type": "display_data"
    }
   ],
   "source": [
    "# GridSearch on Decision Tree (Linear features)\n",
    "\n",
    "from sklearn.tree import DecisionTreeRegressor\n",
    "\n",
    "model_dt = make_pipeline(preprocess_scaler, DecisionTreeRegressor())\n",
    "param_grid = {'decisiontreeregressor__max_depth':[1, 3, 5, 7, 10, 15, 20]}\n",
    "grid_dt = GridSearchCV(model_dt, param_grid = param_grid, return_train_score=True, cv = 5)\n",
    "grid_dt.fit(X_train,y_train)\n",
    "\n",
    "dt_vals = [d['decisiontreeregressor__max_depth'] for d in grid_dt.cv_results_['params']]\n",
    "# plot\n",
    "plot_graph(dt_vals, grid_dt.cv_results_['mean_test_score'].tolist(), 'Decision Tree Regressor model', 'Max Depth', 'R^2', 0, None)\n",
    "\n",
    "\n",
    "print(\"Decision Tree Regressor - best parameters: {}\".format(grid_dt.best_params_))\n",
    "print(\"Decision Tree Regressor - best mean cross-validation score: {:.4f}\".format(grid_dt.best_score_))"
   ]
  },
  {
   "cell_type": "code",
   "execution_count": 29,
   "metadata": {},
   "outputs": [
    {
     "data": {
      "text/plain": [
       "0.35557297620801165"
      ]
     },
     "execution_count": 29,
     "metadata": {},
     "output_type": "execute_result"
    }
   ],
   "source": [
    "# GridSearch on Decision Tree (Quadratic features)\n",
    "\n",
    "model_dt = make_pipeline(preprocess_scaler,PolynomialFeatures(degree = 2), DecisionTreeRegressor(max_depth = 5))\n",
    "scores_dt = cross_val_score(model_dt, X_train, y_train)\n",
    "\n",
    "np.mean(scores_dt)"
   ]
  },
  {
   "cell_type": "markdown",
   "metadata": {},
   "source": [
    "For Decision Tree, we find that features with degree 2 fit better. The best accuracy is 0.35. "
   ]
  },
  {
   "cell_type": "code",
   "execution_count": 30,
   "metadata": {},
   "outputs": [
    {
     "name": "stdout",
     "output_type": "stream",
     "text": [
      "Random Forest Regressor - best parameters: {} {'randomforestregressor__max_depth': 25}\n",
      "Random Forest Regressor - best mean cross-validation score 0.46612522107569204\n"
     ]
    },
    {
     "data": {
      "image/png": "[encoded data removed]",
      "text/plain": [
       "<Figure size 432x288 with 1 Axes>"
      ]
     },
     "metadata": {
      "needs_background": "light"
     },
     "output_type": "display_data"
    }
   ],
   "source": [
    "# GridSearch on Random Forest Regressor\n",
    "\n",
    "from sklearn.ensemble import RandomForestRegressor\n",
    "\n",
    "\n",
    "model_rf = make_pipeline(preprocess, RandomForestRegressor(n_estimators = 10))\n",
    "param_grid = {'randomforestregressor__max_depth':[1, 5, 10, 25, 40]}\n",
    "grid_rf = GridSearchCV(model_rf, param_grid = param_grid, return_train_score=True, cv = 10)\n",
    "grid_rf.fit(X_train,y_train)\n",
    " \n",
    "rf_vals = [d['randomforestregressor__max_depth'] for d in grid_rf.cv_results_['params']]\n",
    "# plot\n",
    "plot_graph(rf_vals, grid_rf.cv_results_['mean_test_score'].tolist(), 'Random Forest Regressor  model', 'Max Depth', 'R^2', 0, None)\n",
    "\n",
    "\n",
    "print(\"Random Forest Regressor - best parameters: {}\",grid_rf.best_params_)\n",
    "print(\"Random Forest Regressor - best mean cross-validation score\",grid_rf.best_score_)\n"
   ]
  },
  {
   "cell_type": "code",
   "execution_count": 32,
   "metadata": {},
   "outputs": [
    {
     "data": {
      "text/plain": [
       "0.46308699562107625"
      ]
     },
     "execution_count": 32,
     "metadata": {},
     "output_type": "execute_result"
    }
   ],
   "source": [
    "#Random Forest Regressor (Quadratic features)\n",
    "\n",
    "model_rf = make_pipeline(preprocess, PolynomialFeatures(degree =2),RandomForestRegressor(n_estimators = 10, max_depth = 25))\n",
    "scores_rf = cross_val_score(model_rf, X_train, y_train)\n",
    "\n",
    "np.mean(scores_rf)"
   ]
  },
  {
   "cell_type": "markdown",
   "metadata": {},
   "source": [
    "For Random Forest Regressor, we find that features with degree 1 fit better. The best accuracy is 0.466."
   ]
  },
  {
   "cell_type": "code",
   "execution_count": 34,
   "metadata": {},
   "outputs": [
    {
     "name": "stdout",
     "output_type": "stream",
     "text": [
      "Gradient Boosting Regressor - best parameters: {} {'gradientboostingregressor__max_depth': 7}\n",
      "Gradient Boosting Regressor - best mean cross-validation score 0.5178087838542818\n"
     ]
    },
    {
     "data": {
      "image/png": "[encoded data removed]",
      "text/plain": [
       "<Figure size 432x288 with 1 Axes>"
      ]
     },
     "metadata": {
      "needs_background": "light"
     },
     "output_type": "display_data"
    }
   ],
   "source": [
    "#GridSearch on Gradient Boosting Regressor\n",
    "\n",
    "from sklearn.ensemble import GradientBoostingRegressor\n",
    "\n",
    "model_gbr = make_pipeline(preprocess, GradientBoostingRegressor())\n",
    "param_grid = {'gradientboostingregressor__max_depth':[3,5,7,9,10,20,25,30]}\n",
    "grid_gbr = GridSearchCV(model_gbr,param_grid = param_grid,return_train_score=True)\n",
    "grid_gbr.fit(X_train,y_train)\n",
    "\n",
    "gbr_vals = [d['gradientboostingregressor__max_depth'] for d in grid_gbr.cv_results_['params']]\n",
    "# plot\n",
    "plot_graph(gbr_vals, grid_gbr.cv_results_['mean_test_score'].tolist(), 'Gradient Boosting Regressor  model', 'Max Depth', 'R^2', 0, None)\n",
    "\n",
    "print(\"Gradient Boosting Regressor - best parameters: {}\", grid_gbr.best_params_)\n",
    "print(\"Gradient Boosting Regressor - best mean cross-validation score\", grid_gbr.best_score_)"
   ]
  },
  {
   "cell_type": "code",
   "execution_count": 35,
   "metadata": {},
   "outputs": [
    {
     "data": {
      "text/plain": [
       "0.5166476754739355"
      ]
     },
     "execution_count": 35,
     "metadata": {},
     "output_type": "execute_result"
    }
   ],
   "source": [
    "#Gradient Boosting Regressor(Quadratic features)\n",
    "\n",
    "model_gbr = make_pipeline(preprocess,PolynomialFeatures(degree =2), GradientBoostingRegressor(max_depth = 7))\n",
    "scores_gbr = cross_val_score(model_gbr, X_train, y_train)\n",
    "\n",
    "np.mean(scores_gbr)"
   ]
  },
  {
   "cell_type": "markdown",
   "metadata": {},
   "source": [
    "For Gradient Boosting Regressor, we find that features with degree 1 fit better. The best accuracy is 0.518."
   ]
  },
  {
   "cell_type": "code",
   "execution_count": 36,
   "metadata": {},
   "outputs": [
    {
     "name": "stderr",
     "output_type": "stream",
     "text": [
      "/Users/swarnabharathimantena/opt/anaconda3/lib/python3.7/site-packages/dask/dataframe/utils.py:14: FutureWarning: pandas.util.testing is deprecated. Use the functions in the public API at pandas.testing instead.\n",
      "  import pandas.util.testing as tm\n"
     ]
    },
    {
     "name": "stdout",
     "output_type": "stream",
     "text": [
      "XGB Regressor - best parameters: {} {'xgbregressor__max_depth': 10}\n",
      "XGBt Regressor - best mean cross-validation score 0.5428725093770359\n"
     ]
    },
    {
     "data": {
      "image/png": "[encoded data removed]",
      "text/plain": [
       "<Figure size 432x288 with 1 Axes>"
      ]
     },
     "metadata": {
      "needs_background": "light"
     },
     "output_type": "display_data"
    }
   ],
   "source": [
    "#GridSearch on XGBoost Regressor (linear features)\n",
    "import xgboost as xgb\n",
    "xg_reg = xgb.XGBRegressor(objective='reg:squarederror',colsample_bytree = 0.3, learning_rate = 0.1, max_depth = 50, \n",
    "                         alpha = 10, n_estimators = 50)\n",
    "from sklearn.model_selection import GridSearchCV\n",
    "from sklearn.preprocessing import StandardScaler\n",
    "\n",
    "# x_selected = pd.DataFrame(x_selected)\n",
    "# categorical_ohe = X_train.dtypes == object\n",
    "\n",
    "model_xg = make_pipeline(preprocess, xg_reg)\n",
    "param_grid = {'xgbregressor__max_depth':[5, 7, 10, 15, 20, 50, 60]}\n",
    "grid_xg = GridSearchCV(model_xg, param_grid = param_grid, return_train_score=True, cv = 5)\n",
    "grid_xg.fit(X_train, y_train)\n",
    "\n",
    "xg_vals = [d['xgbregressor__max_depth'] for d in grid_xg.cv_results_['params']]\n",
    "# plot\n",
    "plot_graph(xg_vals, grid_xg.cv_results_['mean_test_score'].tolist(), 'XGB Regressor  model', 'Max Depth', 'R^2', 0, None)\n",
    "\n",
    "\n",
    "print(\"XGB Regressor - best parameters: {}\",grid_xg.best_params_)\n",
    "print(\"XGBt Regressor - best mean cross-validation score\",grid_xg.best_score_)"
   ]
  },
  {
   "cell_type": "code",
   "execution_count": 37,
   "metadata": {},
   "outputs": [
    {
     "data": {
      "text/plain": [
       "0.5197634953236097"
      ]
     },
     "execution_count": 37,
     "metadata": {},
     "output_type": "execute_result"
    }
   ],
   "source": [
    "#XGBoost Regressor(Quadratic features)\n",
    "\n",
    "xg_reg = xgb.XGBRegressor(objective='reg:squarederror',colsample_bytree = 0.3, learning_rate = 0.1, max_depth = 10, \n",
    "                         alpha = 10, n_estimators = 50)\n",
    "model_xg = make_pipeline(preprocess, PolynomialFeatures(degree =2), xg_reg)\n",
    "scores_xg = cross_val_score(model_xg, X_train, y_train)\n",
    "\n",
    "np.mean(scores_xg)"
   ]
  },
  {
   "cell_type": "markdown",
   "metadata": {},
   "source": [
    "For XGB Regressor, we find that features with degree 1 fit better. The best accuracy is 0.543."
   ]
  },
  {
   "cell_type": "markdown",
   "metadata": {},
   "source": [
    "## SAMPLE 2 (SIZE divided by 10)"
   ]
  },
  {
   "cell_type": "code",
   "execution_count": 38,
   "metadata": {},
   "outputs": [
    {
     "name": "stdout",
     "output_type": "stream",
     "text": [
      "(29457, 17)\n",
      "(29457,)\n"
     ]
    }
   ],
   "source": [
    "#resampling\n",
    "from sklearn.utils import resample\n",
    "X_train, y_train = resample(X_train_main , y_train_main, random_state=0, n_samples=int(X_train_main.shape[0]/10))\n",
    "X_test, y_test = resample(X_test_main , y_test_main, random_state=0, n_samples=int(X_test_main.shape[0]/10))\n",
    "print(X_train.shape)\n",
    "print(y_train.shape)"
   ]
  },
  {
   "cell_type": "markdown",
   "metadata": {},
   "source": [
    "Checking whether adding interactions between the features helps.\n",
    "\n",
    "Encoding the categorical variables region and model using target encoding since they have large number of categories. Encoding them through one hot encoding will result in a extremely huge dataset."
   ]
  },
  {
   "cell_type": "code",
   "execution_count": 39,
   "metadata": {},
   "outputs": [
    {
     "data": {
      "text/plain": [
       "0.491339203000763"
      ]
     },
     "execution_count": 39,
     "metadata": {},
     "output_type": "execute_result"
    }
   ],
   "source": [
    "#Linear Regression\n",
    "\n",
    "from sklearn.preprocessing import PolynomialFeatures\n",
    "\n",
    "# X_train, X_test, y_train, y_test = train_test_split(X_resampled, y_resampled)\n",
    "categorical_ohe = X_train.dtypes == object\n",
    "\n",
    "\n",
    "preprocess = make_column_transformer((TargetEncoder(), ['region', 'model']),(OneHotEncoder(handle_unknown = 'ignore'), categorical.drop(['region', 'model'])), remainder = \"passthrough\")\n",
    "model_lr = make_pipeline(preprocess,LinearRegression())\n",
    "scores_lr = cross_val_score(model_lr, X_train, y_train)\n",
    "\n",
    "np.mean(scores_lr)"
   ]
  },
  {
   "cell_type": "markdown",
   "metadata": {},
   "source": [
    "We got better accuracy on sample 1 for linear regression."
   ]
  },
  {
   "cell_type": "code",
   "execution_count": 40,
   "metadata": {},
   "outputs": [
    {
     "data": {
      "text/plain": [
       "0.2211740697450411"
      ]
     },
     "execution_count": 40,
     "metadata": {},
     "output_type": "execute_result"
    }
   ],
   "source": [
    "##  Linear SVR \n",
    "\n",
    "import warnings\n",
    "from sklearn.exceptions import ConvergenceWarning\n",
    "warnings.filterwarnings(action='ignore', category=ConvergenceWarning)\n",
    "\n",
    "model_svr = make_pipeline(preprocess_scaler, LinearSVR(C = 0.001))\n",
    "scores_svr = cross_val_score(model_svr, X_train, y_train)\n",
    "\n",
    "np.mean(scores_svr)"
   ]
  },
  {
   "cell_type": "markdown",
   "metadata": {},
   "source": [
    "We got better accuracy on sample 2 for linear SVR."
   ]
  },
  {
   "cell_type": "code",
   "execution_count": 41,
   "metadata": {},
   "outputs": [
    {
     "data": {
      "text/plain": [
       "0.4482559518568413"
      ]
     },
     "execution_count": 41,
     "metadata": {},
     "output_type": "execute_result"
    }
   ],
   "source": [
    "#Decision Tree \n",
    "\n",
    "model_dt = make_pipeline(preprocess_scaler, PolynomialFeatures(degree = 2), DecisionTreeRegressor(max_depth = 5))\n",
    "scores_dt = cross_val_score(model_dt, X_train, y_train)\n",
    "\n",
    "np.mean(scores_dt)"
   ]
  },
  {
   "cell_type": "markdown",
   "metadata": {},
   "source": [
    "For Decision Tree, we got better accuracy for sample 2."
   ]
  },
  {
   "cell_type": "code",
   "execution_count": 42,
   "metadata": {},
   "outputs": [
    {
     "data": {
      "text/plain": [
       "0.6068819633125783"
      ]
     },
     "execution_count": 42,
     "metadata": {},
     "output_type": "execute_result"
    }
   ],
   "source": [
    "#Random Forest Regressor\n",
    "\n",
    "model_rf = make_pipeline(preprocess, RandomForestRegressor(n_estimators = 10, max_depth = 25))\n",
    "scores_rf = cross_val_score(model_rf, X_train, y_train)\n",
    "\n",
    "np.mean(scores_rf)"
   ]
  },
  {
   "cell_type": "code",
   "execution_count": 43,
   "metadata": {},
   "outputs": [
    {
     "data": {
      "text/plain": [
       "0.6411367909807064"
      ]
     },
     "execution_count": 43,
     "metadata": {},
     "output_type": "execute_result"
    }
   ],
   "source": [
    "#Gradient Boosting Regressor\n",
    "\n",
    "model_gbr = make_pipeline(preprocess, GradientBoostingRegressor(max_depth = 7))\n",
    "scores_gbr = cross_val_score(model_gbr, X_train, y_train)\n",
    "\n",
    "np.mean(scores_gbr)"
   ]
  },
  {
   "cell_type": "code",
   "execution_count": 44,
   "metadata": {
    "scrolled": true
   },
   "outputs": [
    {
     "data": {
      "text/plain": [
       "0.6363408550187576"
      ]
     },
     "execution_count": 44,
     "metadata": {},
     "output_type": "execute_result"
    }
   ],
   "source": [
    "#XGBoost Regressor\n",
    "\n",
    "xg_reg = xgb.XGBRegressor(objective='reg:squarederror',colsample_bytree = 0.3, learning_rate = 0.1, max_depth = 10, \n",
    "                         alpha = 10, n_estimators = 50)\n",
    "model_xg = make_pipeline(preprocess, xg_reg)\n",
    "scores_xg = cross_val_score(model_xg, X_train, y_train)\n",
    "\n",
    "np.mean(scores_xg)"
   ]
  },
  {
   "cell_type": "markdown",
   "metadata": {},
   "source": [
    "## SAMPLE 3 (SIZE divided by 2)"
   ]
  },
  {
   "cell_type": "code",
   "execution_count": 45,
   "metadata": {},
   "outputs": [
    {
     "name": "stdout",
     "output_type": "stream",
     "text": [
      "(147288, 17)\n",
      "(147288,)\n"
     ]
    }
   ],
   "source": [
    "#resampling\n",
    "from sklearn.utils import resample\n",
    "X_train, y_train = resample(X_train_main , y_train_main, random_state=0, n_samples=int(X_train_main.shape[0]/2))\n",
    "X_test, y_test = resample(X_test_main , y_test_main, random_state=0, n_samples=int(X_test_main.shape[0]/2))\n",
    "print(X_train.shape)\n",
    "print(y_train.shape)"
   ]
  },
  {
   "cell_type": "markdown",
   "metadata": {},
   "source": [
    "Checking whether adding interactions between the features helps.\n",
    "\n",
    "Encoding the categorical variables region and model using target encoding since they have large number of categories. Encoding them through one hot encoding will result in a extremely huge dataset."
   ]
  },
  {
   "cell_type": "code",
   "execution_count": 46,
   "metadata": {},
   "outputs": [
    {
     "data": {
      "text/plain": [
       "0.5291913197301451"
      ]
     },
     "execution_count": 46,
     "metadata": {},
     "output_type": "execute_result"
    }
   ],
   "source": [
    "#Linear Regression\n",
    "\n",
    "from sklearn.preprocessing import PolynomialFeatures\n",
    "\n",
    "# X_train, X_test, y_train, y_test = train_test_split(X_resampled, y_resampled)\n",
    "categorical_ohe = X_train.dtypes == object\n",
    "\n",
    "preprocess = make_column_transformer((TargetEncoder(), ['region', 'model']),(OneHotEncoder(handle_unknown = 'ignore'), categorical.drop(['region', 'model'])), remainder = \"passthrough\")\n",
    "model_lr = make_pipeline(preprocess,LinearRegression())\n",
    "scores_lr = cross_val_score(model_lr, X_train, y_train)\n",
    "\n",
    "np.mean(scores_lr)"
   ]
  },
  {
   "cell_type": "code",
   "execution_count": 47,
   "metadata": {},
   "outputs": [
    {
     "data": {
      "text/plain": [
       "0.32243507989013026"
      ]
     },
     "execution_count": 47,
     "metadata": {},
     "output_type": "execute_result"
    }
   ],
   "source": [
    "##  Linear SVR \n",
    "import warnings\n",
    "from sklearn.exceptions import ConvergenceWarning\n",
    "warnings.filterwarnings(action='ignore', category=ConvergenceWarning)\n",
    "\n",
    "model_svr = make_pipeline(preprocess_scaler, LinearSVR(C = 0.001))\n",
    "scores_svr = cross_val_score(model_svr, X_train, y_train)\n",
    "\n",
    "np.mean(scores_svr)"
   ]
  },
  {
   "cell_type": "code",
   "execution_count": 49,
   "metadata": {},
   "outputs": [
    {
     "data": {
      "text/plain": [
       "0.4720829884206285"
      ]
     },
     "execution_count": 49,
     "metadata": {},
     "output_type": "execute_result"
    }
   ],
   "source": [
    "#Decision Tree \n",
    "\n",
    "model_dt = make_pipeline(preprocess_scaler, DecisionTreeRegressor(max_depth = 5))\n",
    "scores_dt = cross_val_score(model_dt, X_train, y_train)\n",
    "\n",
    "np.mean(scores_dt)"
   ]
  },
  {
   "cell_type": "code",
   "execution_count": 50,
   "metadata": {},
   "outputs": [
    {
     "data": {
      "text/plain": [
       "0.782784480924709"
      ]
     },
     "execution_count": 50,
     "metadata": {},
     "output_type": "execute_result"
    }
   ],
   "source": [
    "#Random Forest Regressor\n",
    "\n",
    "model_rf = make_pipeline(preprocess, RandomForestRegressor(n_estimators = 10, max_depth = 25))\n",
    "scores_rf = cross_val_score(model_rf, X_train, y_train)\n",
    "\n",
    "np.mean(scores_rf)"
   ]
  },
  {
   "cell_type": "code",
   "execution_count": 51,
   "metadata": {},
   "outputs": [
    {
     "data": {
      "text/plain": [
       "0.7024767161261292"
      ]
     },
     "execution_count": 51,
     "metadata": {},
     "output_type": "execute_result"
    }
   ],
   "source": [
    "#Gradient Boosting Regressor\n",
    "\n",
    "model_gbr = make_pipeline(preprocess, GradientBoostingRegressor(max_depth = 7))\n",
    "scores_gbr = cross_val_score(model_gbr, X_train, y_train)\n",
    "\n",
    "np.mean(scores_gbr)"
   ]
  },
  {
   "cell_type": "code",
   "execution_count": 53,
   "metadata": {},
   "outputs": [
    {
     "data": {
      "text/plain": [
       "0.8449033481816439"
      ]
     },
     "execution_count": 53,
     "metadata": {},
     "output_type": "execute_result"
    }
   ],
   "source": [
    "#XGBoost Regressor\n",
    "\n",
    "xg_reg = xgb.XGBRegressor(objective='reg:squarederror',colsample_bytree = 0.3, learning_rate = 0.1, max_depth = 50, \n",
    "                         alpha = 10, n_estimators = 50)\n",
    "model_xg = make_pipeline(preprocess, xg_reg)\n",
    "scores_xg = cross_val_score(model_xg, X_train, y_train)\n",
    "\n",
    "np.mean(scores_xg)"
   ]
  },
  {
   "cell_type": "markdown",
   "metadata": {},
   "source": [
    "Therefore the results from all models run before can be summarized as in the following table.\n",
    "<img src=\"table.png\" width=\"800\" height=\"200\">"
   ]
  },
  {
   "cell_type": "markdown",
   "metadata": {},
   "source": [
    "We observe the highest accuracy of 0.84 from XGBoost Regressor with max_depth = 50 as its best hyperparameter over 50% subsampled data."
   ]
  },
  {
   "cell_type": "code",
   "execution_count": 68,
   "metadata": {},
   "outputs": [
    {
     "data": {
      "text/plain": [
       "0.7855554315110209"
      ]
     },
     "execution_count": 68,
     "metadata": {},
     "output_type": "execute_result"
    }
   ],
   "source": [
    "# Test set score\n",
    "xg_reg = xgb.XGBRegressor(objective='reg:squarederror',colsample_bytree = 0.3, learning_rate = 0.1, max_depth = 50, \n",
    "                         alpha = 10, n_estimators = 50)\n",
    "model_xg = make_pipeline(preprocess, xg_reg)\n",
    "model_xg.fit(X_train, y_train)\n",
    "score = model_xg.score(X_test, y_test)\n",
    "score"
   ]
  },
  {
   "cell_type": "markdown",
   "metadata": {},
   "source": [
    "Accuracy obtained by our best model on the test set is **0.78**."
   ]
  },
  {
   "cell_type": "markdown",
   "metadata": {},
   "source": [
    "## Task 5 - FEATURE SELECTIONS\n",
    "\n",
    "#### Model based (single fit)"
   ]
  },
  {
   "cell_type": "code",
   "execution_count": 55,
   "metadata": {},
   "outputs": [
    {
     "data": {
      "text/plain": [
       "Index(['region', 'manufacturer', 'model', 'condition', 'cylinders', 'fuel',\n",
       "       'title_status', 'transmission', 'drive', 'size', 'type', 'paint_color',\n",
       "       'state'],\n",
       "      dtype='object')"
      ]
     },
     "execution_count": 55,
     "metadata": {},
     "output_type": "execute_result"
    }
   ],
   "source": [
    "cat = X_train.columns[X_train.dtypes == object] # X_train corresponds to sample 3 - 50% data\n",
    "cat"
   ]
  },
  {
   "cell_type": "code",
   "execution_count": 56,
   "metadata": {},
   "outputs": [
    {
     "data": {
      "text/plain": [
       "Index(['year', 'odometer', 'lat', 'long'], dtype='object')"
      ]
     },
     "execution_count": 56,
     "metadata": {},
     "output_type": "execute_result"
    }
   ],
   "source": [
    "cont = X_train.columns[X_train.dtypes != object]\n",
    "cont"
   ]
  },
  {
   "cell_type": "code",
   "execution_count": 57,
   "metadata": {},
   "outputs": [
    {
     "data": {
      "text/plain": [
       "Index(['manufacturer', 'condition', 'cylinders', 'fuel', 'title_status',\n",
       "       'transmission', 'drive', 'size', 'type', 'paint_color', 'state'],\n",
       "      dtype='object')"
      ]
     },
     "execution_count": 57,
     "metadata": {},
     "output_type": "execute_result"
    }
   ],
   "source": [
    "cat.drop(['model', 'region'])"
   ]
  },
  {
   "cell_type": "markdown",
   "metadata": {},
   "source": [
    "The features are listed from most important to least important below:"
   ]
  },
  {
   "cell_type": "code",
   "execution_count": 58,
   "metadata": {
    "scrolled": false
   },
   "outputs": [
    {
     "data": {
      "text/plain": [
       "{'fuel_diesel': 0.13760047,\n",
       " 'type_pickup': 0.047176696,\n",
       " 'drive_fwd': 0.036753,\n",
       " 'transmission_other': 0.03273031,\n",
       " 'year': 0.029176062,\n",
       " 'condition_fair': 0.02907298,\n",
       " 'state_wv': 0.019839594,\n",
       " 'drive_4wd': 0.019449202,\n",
       " 'manufacturer_tesla': 0.019058894,\n",
       " 'cylinders_4 cylinders': 0.017921641,\n",
       " 'manufacturer_alfa-romeo': 0.015820652,\n",
       " 'cylinders_8 cylinders': 0.014415969,\n",
       " 'cylinders_12 cylinders': 0.013231624,\n",
       " 'fuel_gas': 0.013034806,\n",
       " 'manufacturer_ram': 0.01158773,\n",
       " 'cylinders_10 cylinders': 0.010081018,\n",
       " 'fuel_other': 0.009914202,\n",
       " 'type_bus': 0.009838208,\n",
       " 'condition_good': 0.009685144,\n",
       " 'state_ak': 0.009586005,\n",
       " 'model': 0.0094891125,\n",
       " 'drive_rwd': 0.008884848,\n",
       " 'state_sc': 0.008874365,\n",
       " 'cylinders_6 cylinders': 0.008481632,\n",
       " 'title_status_lien': 0.008073865,\n",
       " 'state_mt': 0.008033966,\n",
       " 'manufacturer_ferrari': 0.007974619,\n",
       " 'type_other': 0.0076051615,\n",
       " 'manufacturer_rover': 0.00740382,\n",
       " 'state_hi': 0.007368849,\n",
       " 'state_la': 0.00731532,\n",
       " 'state_nc': 0.0068675154,\n",
       " 'state_ca': 0.0068600476,\n",
       " 'type_sedan': 0.0067563388,\n",
       " 'state_va': 0.006457738,\n",
       " 'condition_salvage': 0.006352374,\n",
       " 'state_md': 0.0062791696,\n",
       " 'condition_new': 0.0062531945,\n",
       " 'long': 0.006231498,\n",
       " 'cylinders_other': 0.0061643636,\n",
       " 'state_wa': 0.006060242,\n",
       " 'state_co': 0.0057785995,\n",
       " 'title_status_parts only': 0.0057267547,\n",
       " 'state_ok': 0.005215695,\n",
       " 'type_truck': 0.005213197,\n",
       " 'fuel_electric': 0.0051186094,\n",
       " 'lat': 0.005001392,\n",
       " 'type_convertible': 0.0048900577,\n",
       " 'manufacturer_gmc': 0.0048108567,\n",
       " 'odometer': 0.0047131623,\n",
       " 'type_mini-van': 0.004677888,\n",
       " 'size_full-size': 0.0046127555,\n",
       " 'manufacturer_harley-davidson': 0.0046007615,\n",
       " 'state_ar': 0.0045756698,\n",
       " 'condition_like new': 0.0045325854,\n",
       " 'type_van': 0.004527928,\n",
       " 'manufacturer_mercedes-benz': 0.0044319383,\n",
       " 'state_nm': 0.0043981923,\n",
       " 'manufacturer_subaru': 0.00435977,\n",
       " 'cylinders_3 cylinders': 0.004263816,\n",
       " 'manufacturer_lexus': 0.00417205,\n",
       " 'state_or': 0.00411064,\n",
       " 'manufacturer_hyundai': 0.0040913285,\n",
       " 'state_wy': 0.0040881694,\n",
       " 'type_coupe': 0.004005505,\n",
       " 'state_vt': 0.0039453213,\n",
       " 'state_ks': 0.003933039,\n",
       " 'manufacturer_aston-martin': 0.0038541663,\n",
       " 'state_nv': 0.0037597045,\n",
       " 'manufacturer_jaguar': 0.0036533342,\n",
       " 'type_offroad': 0.003640107,\n",
       " 'manufacturer_kia': 0.0036277722,\n",
       " 'manufacturer_ford': 0.0035468938,\n",
       " 'paint_color_brown': 0.0035042819,\n",
       " 'state_id': 0.0034779808,\n",
       " 'type_SUV': 0.0034755077,\n",
       " 'manufacturer_cadillac': 0.003467204,\n",
       " 'state_tx': 0.0034207732,\n",
       " 'manufacturer_bmw': 0.0033431724,\n",
       " 'state_ne': 0.0033202018,\n",
       " 'state_ct': 0.00327248,\n",
       " 'state_ga': 0.0032647408,\n",
       " 'paint_color_grey': 0.0032027576,\n",
       " 'state_ut': 0.0031940269,\n",
       " 'state_fl': 0.0031771383,\n",
       " 'paint_color_yellow': 0.003101245,\n",
       " 'manufacturer_mitsubishi': 0.00310079,\n",
       " 'state_il': 0.003048556,\n",
       " 'state_ny': 0.003040076,\n",
       " 'state_al': 0.00302272,\n",
       " 'paint_color_custom': 0.002978902,\n",
       " 'state_nd': 0.0029726904,\n",
       " 'manufacturer_audi': 0.0029342088,\n",
       " 'state_mi': 0.0029283362,\n",
       " 'manufacturer_infiniti': 0.002891151,\n",
       " 'size_mid-size': 0.0028812832,\n",
       " 'paint_color_green': 0.0028791176,\n",
       " 'state_ms': 0.002800305,\n",
       " 'transmission_manual': 0.0027498773,\n",
       " 'state_me': 0.0027375976,\n",
       " 'size_sub-compact': 0.0026760886,\n",
       " 'paint_color_orange': 0.002672287,\n",
       " 'manufacturer_lincoln': 0.0026698487,\n",
       " 'size_compact': 0.002656747,\n",
       " 'state_ia': 0.0026500626,\n",
       " 'state_wi': 0.0025466676,\n",
       " 'type_hatchback': 0.0025410543,\n",
       " 'manufacturer_dodge': 0.0025295888,\n",
       " 'state_mo': 0.0025033923,\n",
       " 'manufacturer_honda': 0.002489256,\n",
       " 'state_ky': 0.0024862762,\n",
       " 'paint_color_red': 0.0024761502,\n",
       " 'state_az': 0.0024668227,\n",
       " 'title_status_missing': 0.0024520303,\n",
       " 'paint_color_purple': 0.0024215179,\n",
       " 'state_mn': 0.0023986422,\n",
       " 'transmission_automatic': 0.0023731482,\n",
       " 'manufacturer_mazda': 0.002349613,\n",
       " 'paint_color_blue': 0.002254089,\n",
       " 'state_sd': 0.0022383216,\n",
       " 'title_status_salvage': 0.0022193224,\n",
       " 'manufacturer_toyota': 0.0022131002,\n",
       " 'region': 0.0021900127,\n",
       " 'paint_color_white': 0.0021413004,\n",
       " 'condition_excellent': 0.0021338111,\n",
       " 'fuel_hybrid': 0.0021337739,\n",
       " 'state_oh': 0.002124357,\n",
       " 'manufacturer_nissan': 0.0020920485,\n",
       " 'state_nh': 0.0020797541,\n",
       " 'cylinders_5 cylinders': 0.0020463055,\n",
       " 'state_tn': 0.0020439005,\n",
       " 'state_nj': 0.0020367038,\n",
       " 'state_ma': 0.0020097743,\n",
       " 'manufacturer_pontiac': 0.002009705,\n",
       " 'state_pa': 0.001917007,\n",
       " 'paint_color_black': 0.0019048192,\n",
       " 'manufacturer_volkswagen': 0.0018888087,\n",
       " 'state_de': 0.0018813862,\n",
       " 'state_in': 0.0018424224,\n",
       " 'manufacturer_acura': 0.0018136133,\n",
       " 'state_dc': 0.0017874747,\n",
       " 'manufacturer_jeep': 0.0017243987,\n",
       " 'manufacturer_chrysler': 0.001644146,\n",
       " 'manufacturer_land rover': 0.0016347077,\n",
       " 'type_wagon': 0.0016145725,\n",
       " 'title_status_clean': 0.0016144621,\n",
       " 'manufacturer_chevrolet': 0.0016080877,\n",
       " 'manufacturer_mercury': 0.001533649,\n",
       " 'manufacturer_buick': 0.0014842463,\n",
       " 'manufacturer_volvo': 0.0013552461,\n",
       " 'state_ri': 0.0013226629,\n",
       " 'manufacturer_saturn': 0.0012978768,\n",
       " 'paint_color_silver': 0.0012942335,\n",
       " 'title_status_rebuilt': 0.0011170496,\n",
       " 'manufacturer_fiat': 0.0009545888,\n",
       " 'manufacturer_porche': 0.0008803605,\n",
       " 'manufacturer_mini': 0.0007316278}"
      ]
     },
     "execution_count": 58,
     "metadata": {},
     "output_type": "execute_result"
    }
   ],
   "source": [
    "import operator\n",
    "\n",
    "# cat = X_resampled.columns[X_resampled.dtypes == object]\n",
    "\n",
    "\n",
    "model_xg.fit(X_train, y_train)\n",
    "coefs = model_xg.named_steps['xgbregressor'].feature_importances_\n",
    "features = model_xg.named_steps['columntransformer'].transformers_[1][1].get_feature_names(cat.drop(['region', 'model']))\n",
    "features_all = ['region', 'model'] + list(features) + ['year', 'odometer', 'lat', 'long']\n",
    "feature_vals = dict(zip(features_all, coefs))\n",
    "feature_vals_sorted = dict(sorted(feature_vals.items(), key=lambda x: x[1], reverse=True))\n",
    "feature_vals_sorted"
   ]
  },
  {
   "cell_type": "code",
   "execution_count": 59,
   "metadata": {},
   "outputs": [],
   "source": [
    "import itertools\n",
    "import collections\n",
    "\n",
    "l = len(feature_vals_sorted)\n",
    "feature_vals_selected = collections.OrderedDict(feature_vals_sorted)\n",
    "feature_vals_selected = itertools.islice(feature_vals_selected.items(), 0, int(l/2)) #50%\n",
    "feature_vals_selected = dict(feature_vals_selected)\n",
    "# for key, value in feature_vals_selected:\n",
    "#     print (key, value)"
   ]
  },
  {
   "cell_type": "markdown",
   "metadata": {},
   "source": [
    "We take top 50% features as most relevant features and last 50% as least important features. \n",
    "\n",
    "\n",
    "Now, to remove these features, we will have to create the dataframe of input train X that is obtained after pipeline and column transformer are called over it. To do this, we need to target encode, one hot encode the corresponding columns, and add the continuous columns by ourselves. Next, we remove 50% features that have least importance and train the model on the modified feature set input. So we built the necessary X_train and X_test for our model from scratch without using pipeline."
   ]
  },
  {
   "cell_type": "code",
   "execution_count": 60,
   "metadata": {},
   "outputs": [],
   "source": [
    "#Transformed Class to target encode columns\n",
    "#Taken from Category Encoders manual:https://contrib.scikit-learn.org/categorical-encoding/_modules/category_encoders/target_encoder.html#TargetEncoder\n",
    "\n",
    "class TargetEncoder():\n",
    "    \"\"\"Target encoder.\n",
    "    \n",
    "    Replaces categorical column(s) with the mean target value for\n",
    "    each category.\n",
    "\n",
    "    \"\"\"\n",
    "    \n",
    "    def __init__(self, cols=None):\n",
    "        \"\"\"Target encoder\n",
    "        \n",
    "        Parameters\n",
    "        ----------\n",
    "        cols : list of str\n",
    "            Columns to target encode.  Default is to target \n",
    "            encode all categorical columns in the DataFrame.\n",
    "        \"\"\"\n",
    "        if isinstance(cols, str):\n",
    "            self.cols = [cols]\n",
    "        else:\n",
    "            self.cols = cols\n",
    "        \n",
    "        \n",
    "    def fit(self, X, y):\n",
    "        \"\"\"Fit target encoder to X and y\n",
    "        \n",
    "        Parameters\n",
    "        ----------\n",
    "        X : pandas DataFrame, shape [n_samples, n_columns]\n",
    "            DataFrame containing columns to encode\n",
    "        y : pandas Series, shape = [n_samples]\n",
    "            Target values.\n",
    "            \n",
    "        Returns\n",
    "        -------\n",
    "        self : encoder\n",
    "            Returns self.\n",
    "        \"\"\"\n",
    "        \n",
    "        # Encode all categorical cols by default\n",
    "        if self.cols is None:\n",
    "            self.cols = [col for col in X \n",
    "                         if str(X[col].dtype)=='object']\n",
    "\n",
    "        # Check columns are in X\n",
    "        for col in self.cols:\n",
    "            if col not in X:\n",
    "                raise ValueError('Column \\''+col+'\\' not in X')\n",
    "\n",
    "        # Encode each element of each column\n",
    "        self.maps = dict() #dict to store map for each column\n",
    "        for col in self.cols:\n",
    "            tmap = dict()\n",
    "            uniques = X[col].unique()\n",
    "            for unique in uniques:\n",
    "                tmap[unique] = y[X[col]==unique].mean()\n",
    "            self.maps[col] = tmap\n",
    "            \n",
    "        return self\n",
    "\n",
    "        \n",
    "    def transform(self, X, y=None):\n",
    "        \"\"\"Perform the target encoding transformation.\n",
    "        \n",
    "        Parameters\n",
    "        ----------\n",
    "        X : pandas DataFrame, shape [n_samples, n_columns]\n",
    "            DataFrame containing columns to encode\n",
    "            \n",
    "        Returns\n",
    "        -------\n",
    "        pandas DataFrame\n",
    "            Input DataFrame with transformed columns\n",
    "        \"\"\"\n",
    "        Xo = X.copy()\n",
    "        for col, tmap in self.maps.items():\n",
    "            vals = np.full(X.shape[0], np.nan)\n",
    "            for val, mean_target in tmap.items():\n",
    "                vals[X[col]==val] = mean_target\n",
    "            Xo[col] = vals\n",
    "        return Xo\n",
    "            \n",
    "            \n",
    "    def fit_transform(self, X, y=None):\n",
    "        \"\"\"Fit and transform the data via target encoding.\n",
    "        \n",
    "        Parameters\n",
    "        ----------\n",
    "        X : pandas DataFrame, shape [n_samples, n_columns]\n",
    "            DataFrame containing columns to encode\n",
    "        y : pandas Series, shape = [n_samples]\n",
    "            Target values (required!).\n",
    "\n",
    "        Returns\n",
    "        -------\n",
    "        pandas DataFrame\n",
    "            Input DataFrame with transformed columns\n",
    "        \"\"\"\n",
    "        return self.fit(X, y).transform(X, y)"
   ]
  },
  {
   "cell_type": "code",
   "execution_count": 61,
   "metadata": {},
   "outputs": [],
   "source": [
    "#Selecting corresponding columns #X_train\n",
    "X_train_columns_to_target_encode = X_train[['model','region']]\n",
    "X_train_columns_to_ohe = X_train[['manufacturer', 'condition', 'cylinders', 'fuel', 'title_status',\n",
    "       'transmission', 'drive', 'size', 'type', 'paint_color','state']]"
   ]
  },
  {
   "cell_type": "code",
   "execution_count": 62,
   "metadata": {},
   "outputs": [
    {
     "data": {
      "text/html": [
       "<div>\n",
       "<style scoped>\n",
       "    .dataframe tbody tr th:only-of-type {\n",
       "        vertical-align: middle;\n",
       "    }\n",
       "\n",
       "    .dataframe tbody tr th {\n",
       "        vertical-align: top;\n",
       "    }\n",
       "\n",
       "    .dataframe thead th {\n",
       "        text-align: right;\n",
       "    }\n",
       "</style>\n",
       "<table border=\"1\" class=\"dataframe\">\n",
       "  <thead>\n",
       "    <tr style=\"text-align: right;\">\n",
       "      <th></th>\n",
       "      <th>model</th>\n",
       "      <th>region</th>\n",
       "    </tr>\n",
       "  </thead>\n",
       "  <tbody>\n",
       "    <tr>\n",
       "      <th>258078</th>\n",
       "      <td>15079.349325</td>\n",
       "      <td>14322.563492</td>\n",
       "    </tr>\n",
       "    <tr>\n",
       "      <th>127831</th>\n",
       "      <td>10885.833333</td>\n",
       "      <td>12360.663252</td>\n",
       "    </tr>\n",
       "    <tr>\n",
       "      <th>449296</th>\n",
       "      <td>4040.289157</td>\n",
       "      <td>7786.971014</td>\n",
       "    </tr>\n",
       "    <tr>\n",
       "      <th>71849</th>\n",
       "      <td>13637.865248</td>\n",
       "      <td>11481.856723</td>\n",
       "    </tr>\n",
       "    <tr>\n",
       "      <th>472295</th>\n",
       "      <td>7777.400000</td>\n",
       "      <td>16785.839246</td>\n",
       "    </tr>\n",
       "    <tr>\n",
       "      <th>260745</th>\n",
       "      <td>9325.039877</td>\n",
       "      <td>12401.729114</td>\n",
       "    </tr>\n",
       "    <tr>\n",
       "      <th>11323</th>\n",
       "      <td>7162.055790</td>\n",
       "      <td>9607.571709</td>\n",
       "    </tr>\n",
       "    <tr>\n",
       "      <th>232586</th>\n",
       "      <td>12730.195833</td>\n",
       "      <td>12494.533408</td>\n",
       "    </tr>\n",
       "    <tr>\n",
       "      <th>198769</th>\n",
       "      <td>16341.362934</td>\n",
       "      <td>13633.939799</td>\n",
       "    </tr>\n",
       "    <tr>\n",
       "      <th>450260</th>\n",
       "      <td>38416.666667</td>\n",
       "      <td>11053.766744</td>\n",
       "    </tr>\n",
       "  </tbody>\n",
       "</table>\n",
       "</div>"
      ],
      "text/plain": [
       "               model        region\n",
       "258078  15079.349325  14322.563492\n",
       "127831  10885.833333  12360.663252\n",
       "449296   4040.289157   7786.971014\n",
       "71849   13637.865248  11481.856723\n",
       "472295   7777.400000  16785.839246\n",
       "260745   9325.039877  12401.729114\n",
       "11323    7162.055790   9607.571709\n",
       "232586  12730.195833  12494.533408\n",
       "198769  16341.362934  13633.939799\n",
       "450260  38416.666667  11053.766744"
      ]
     },
     "execution_count": 62,
     "metadata": {},
     "output_type": "execute_result"
    }
   ],
   "source": [
    "#Applying the target encoding\n",
    "\n",
    "te = TargetEncoder()\n",
    "X_train_target_encoded = te.fit_transform(X_train_columns_to_target_encode, y_train)\n",
    "X_train_target_encoded.sample(10)"
   ]
  },
  {
   "cell_type": "code",
   "execution_count": 63,
   "metadata": {},
   "outputs": [],
   "source": [
    "#Applying the one hot encoding\n",
    "X_train_ohe = pd.get_dummies(X_train_columns_to_ohe)\n",
    "\n",
    "#Placing the DataFrames side by side\n",
    "X_train_built_from_scratch = pd.concat([X_train_target_encoded, X_train_ohe], axis=1)\n",
    "X_train_built_from_scratch = pd.concat([X_train_built_from_scratch, X_train[['year', 'odometer', 'lat', 'long']]], axis=1)"
   ]
  },
  {
   "cell_type": "code",
   "execution_count": 64,
   "metadata": {},
   "outputs": [],
   "source": [
    "# X_test preprocessing - creating corresponding X_test\n",
    "#Selecting corresponding columns #X_test\n",
    "X_test_columns_to_target_encode = X_test[['model','region']]\n",
    "X_test_columns_to_ohe = X_test[['manufacturer', 'condition', 'cylinders', 'fuel', 'title_status',\n",
    "       'transmission', 'drive', 'size', 'type', 'paint_color','state']]\n",
    "\n",
    "te = TargetEncoder()\n",
    "X_test_target_encoded = te.fit_transform(X_test_columns_to_target_encode, y_test)\n",
    "# X_test_target_encoded.sample(10)\n",
    "\n",
    "\n",
    "#Applying the one hot encoding\n",
    "X_test_ohe = pd.get_dummies(X_test_columns_to_ohe)\n",
    "\n",
    "#Placing the DataFrames side by side\n",
    "X_test_built_from_scratch = pd.concat([X_test_target_encoded, X_test_ohe, X_test[['year', 'odometer', 'lat', 'long']]], axis=1)"
   ]
  },
  {
   "cell_type": "code",
   "execution_count": 65,
   "metadata": {},
   "outputs": [
    {
     "data": {
      "text/plain": [
       "0.8634686239878752"
      ]
     },
     "execution_count": 65,
     "metadata": {},
     "output_type": "execute_result"
    }
   ],
   "source": [
    "#Running XGBoost Regressor on the new features\n",
    "\n",
    "filtered_X_train = X_train_built_from_scratch.copy()\n",
    "selected_features = list(feature_vals_selected.keys())\n",
    "for item in filtered_X_train.columns:\n",
    "    if item not in selected_features:\n",
    "        filtered_X_train = filtered_X_train.drop([item], axis = 1)\n",
    "        \n",
    "\n",
    "filtered_X_test = X_test_built_from_scratch.copy()\n",
    "selected_features = list(feature_vals_selected.keys())\n",
    "for item in filtered_X_test.columns:\n",
    "    if item not in selected_features or item not in filtered_X_train.columns:\n",
    "        filtered_X_test = filtered_X_test.drop([item], axis = 1)\n",
    "        \n",
    "for item in filtered_X_train.columns:\n",
    "    if item not in filtered_X_test.columns:\n",
    "        filtered_X_test[item] = 0\n",
    "        \n",
    "filtered_X_test = filtered_X_test[filtered_X_train.columns]\n",
    "\n",
    "\n",
    "xg_reg_selected = xgb.XGBRegressor(objective='reg:squarederror',colsample_bytree = 0.3, learning_rate = 0.1, max_depth = 50, \n",
    "                         alpha = 10, n_estimators = 50)\n",
    "scores_xg_reg_selected = cross_val_score(xg_reg_selected, filtered_X_train, y_train)\n",
    "\n",
    "np.mean(scores_xg_reg_selected)"
   ]
  },
  {
   "cell_type": "markdown",
   "metadata": {},
   "source": [
    "The score of XGBoost Regressor model on original data was 84%. After removing the least important 50% of the features, we see that the accuracy has slightly increased. Next, we can try removing the least important 10% of the featrues and see the results as follows:"
   ]
  },
  {
   "cell_type": "code",
   "execution_count": 66,
   "metadata": {},
   "outputs": [
    {
     "data": {
      "text/plain": [
       "0.8555249937539002"
      ]
     },
     "execution_count": 66,
     "metadata": {},
     "output_type": "execute_result"
    }
   ],
   "source": [
    "# 90%\n",
    "\n",
    "l = len(feature_vals_sorted)\n",
    "feature_vals_selected = collections.OrderedDict(feature_vals_sorted)\n",
    "feature_vals_selected = itertools.islice(feature_vals_selected.items(), 0, int(l*0.9))\n",
    "feature_vals_selected = dict(feature_vals_selected)\n",
    "\n",
    "\n",
    "filtered_X_train = X_train_built_from_scratch.copy()\n",
    "selected_features = list(feature_vals_selected.keys())\n",
    "for item in filtered_X_train.columns:\n",
    "    if item not in selected_features:\n",
    "        filtered_X_train = filtered_X_train.drop([item], axis = 1)\n",
    "        \n",
    "\n",
    "filtered_X_test = X_test_built_from_scratch.copy()\n",
    "selected_features = list(feature_vals_selected.keys())\n",
    "for item in filtered_X_test.columns:\n",
    "    if item not in selected_features or item not in filtered_X_train.columns:\n",
    "        filtered_X_test = filtered_X_test.drop([item], axis = 1)\n",
    "        \n",
    "        \n",
    "for item in filtered_X_train.columns:\n",
    "    if item not in filtered_X_test.columns:\n",
    "        filtered_X_test[item] = 0\n",
    "        \n",
    "        \n",
    "filtered_X_test = filtered_X_test[filtered_X_train.columns]\n",
    "\n",
    "xg_reg_selected = xgb.XGBRegressor(objective='reg:squarederror',colsample_bytree = 0.3, learning_rate = 0.1, max_depth = 50, \n",
    "                         alpha = 10, n_estimators = 50)\n",
    "scores_xg_reg_selected = cross_val_score(xg_reg_selected, filtered_X_train, y_train)\n",
    "\n",
    "np.mean(scores_xg_reg_selected)"
   ]
  },
  {
   "cell_type": "markdown",
   "metadata": {},
   "source": [
    "So we observe that the accuracy has slightly decreased when when compared to 50% feature reduction, but the overall accuracy has increased by 1%. \n",
    "Therefore, the feature selection done was successful."
   ]
  },
  {
   "cell_type": "markdown",
   "metadata": {},
   "source": [
    "## Task 6 - AN EXPLAINABLE MODEL\n",
    "\n",
    "We decided to choose top 20% features from our data. On fitting the data on a Decision tree with depth 4, we find it gives a comparable accuracy to our best model which is xgboost with depth 10. Also, on fitting the data on a Linear Regression model, we find it also gives a comparable accuracy to our best model.\n",
    "- Accuracy of XGB Regressor (best model): 0.59\n",
    "- Accuracy of Decision Tree with depth 4 : 0.53\n",
    "- Accuracy of Linear Regression: 0.53"
   ]
  },
  {
   "cell_type": "code",
   "execution_count": 78,
   "metadata": {},
   "outputs": [],
   "source": [
    "l = len(feature_vals_sorted)\n",
    "feature_vals_selected = collections.OrderedDict(feature_vals_sorted)\n",
    "feature_vals_selected = itertools.islice(feature_vals_selected.items(), 0, int(l*0.2))\n",
    "feature_vals_selected = dict(feature_vals_selected)\n",
    "features_20percent = list(filtered_X_test.columns)\n",
    "# features_20percent\n",
    "\n",
    "filtered_X_train = X_train_built_from_scratch.copy()\n",
    "selected_features = list(feature_vals_selected.keys())\n",
    "for item in filtered_X_train.columns:\n",
    "    if item not in selected_features:\n",
    "        filtered_X_train = filtered_X_train.drop([item], axis = 1)\n",
    "        \n",
    "\n",
    "filtered_X_test = X_test_built_from_scratch.copy()\n",
    "selected_features = list(feature_vals_selected.keys())\n",
    "for item in filtered_X_test.columns:\n",
    "    if item not in selected_features or item not in filtered_X_train.columns:\n",
    "        filtered_X_test = filtered_X_test.drop([item], axis = 1)\n",
    "        \n",
    "        \n",
    "for item in filtered_X_train.columns:\n",
    "    if item not in filtered_X_test.columns:\n",
    "        filtered_X_test[item] = 0\n",
    "        \n",
    "        \n",
    "filtered_X_test = filtered_X_test[filtered_X_train.columns]"
   ]
  },
  {
   "cell_type": "code",
   "execution_count": 97,
   "metadata": {},
   "outputs": [
    {
     "name": "stdout",
     "output_type": "stream",
     "text": [
      "0.5937017065763495\n"
     ]
    }
   ],
   "source": [
    "# top 20% features - max depth 10\n",
    "import xgboost as xgb\n",
    "# from sklearn.model_selection import GridSearchCV\n",
    "\n",
    "xg = xgb.XGBRegressor(objective='reg:squarederror', colsample_bytree = 0.3, learning_rate = 0.1, max_depth = 10, \n",
    "                         alpha = 10, n_estimators = 50)\n",
    "xg = xg.fit(filtered_X_train, y_train)\n",
    "score = xg.score(filtered_X_test, y_test)\n",
    "print(score)"
   ]
  },
  {
   "cell_type": "code",
   "execution_count": 93,
   "metadata": {},
   "outputs": [
    {
     "name": "stdout",
     "output_type": "stream",
     "text": [
      "0.5282802383342708\n"
     ]
    }
   ],
   "source": [
    "# 20% - max depth 4\n",
    "from sklearn.tree import DecisionTreeRegressor\n",
    "\n",
    "dt = DecisionTreeRegressor(max_depth = 4)\n",
    "dt = dt.fit(filtered_X_train, y_train)\n",
    "score = dt.score(filtered_X_test, y_test)\n",
    "print(score)"
   ]
  },
  {
   "cell_type": "code",
   "execution_count": 96,
   "metadata": {},
   "outputs": [
    {
     "data": {
      "text/plain": [
       "'dt_graph.pdf'"
      ]
     },
     "execution_count": 96,
     "metadata": {},
     "output_type": "execute_result"
    }
   ],
   "source": [
    "from sklearn import tree\n",
    "from sklearn.tree import export_graphviz\n",
    "import graphviz as gv\n",
    "\n",
    "dot_data = tree.export_graphviz(dt, out_file=None, \n",
    "                      feature_names=features_20percent,  \n",
    "                      filled=True, rounded=True,  \n",
    "                      special_characters=True)  \n",
    "graph = gv.Source(dot_data)  \n",
    "graph.render('dt_graph', view=True)"
   ]
  },
  {
   "cell_type": "markdown",
   "metadata": {},
   "source": [
    "<img src=\"dt_graph.png\" >"
   ]
  },
  {
   "cell_type": "markdown",
   "metadata": {},
   "source": [
    "The decision tree chose model,and year as its most important features to build a tree with depth 4. The root node is split based on the feature 'model' - whether it is less than or greater than the value 13368 (this is a target encoded feature) - it is the average of all values found in its category. Hence, if the average value of a particular category is less than 13368, the tree directs towards its left child (true condition), else it directs towards the right child. Similarly, other features are conditioned and analyzed in different nodes of the tree till it reaches a leaf node that contains the regression output (predicted price of the car)."
   ]
  },
  {
   "cell_type": "code",
   "execution_count": 84,
   "metadata": {},
   "outputs": [
    {
     "data": {
      "text/plain": [
       "0.5357708180601817"
      ]
     },
     "execution_count": 84,
     "metadata": {},
     "output_type": "execute_result"
    }
   ],
   "source": [
    "# 20% \n",
    "from sklearn.linear_model import LinearRegression\n",
    "\n",
    "lr = LinearRegression()\n",
    "scores_lr = cross_val_score(lr, filtered_X_train, y_train)\n",
    "\n",
    "np.mean(scores_lr)"
   ]
  },
  {
   "cell_type": "code",
   "execution_count": 86,
   "metadata": {
    "scrolled": true
   },
   "outputs": [
    {
     "data": {
      "text/html": [
       "<div>\n",
       "<style scoped>\n",
       "    .dataframe tbody tr th:only-of-type {\n",
       "        vertical-align: middle;\n",
       "    }\n",
       "\n",
       "    .dataframe tbody tr th {\n",
       "        vertical-align: top;\n",
       "    }\n",
       "\n",
       "    .dataframe thead th {\n",
       "        text-align: right;\n",
       "    }\n",
       "</style>\n",
       "<table border=\"1\" class=\"dataframe\">\n",
       "  <thead>\n",
       "    <tr style=\"text-align: right;\">\n",
       "      <th></th>\n",
       "      <th>features</th>\n",
       "      <th>coefficients</th>\n",
       "    </tr>\n",
       "  </thead>\n",
       "  <tbody>\n",
       "    <tr>\n",
       "      <th>0</th>\n",
       "      <td>cylinders_12 cylinders</td>\n",
       "      <td>5372.424134</td>\n",
       "    </tr>\n",
       "    <tr>\n",
       "      <th>1</th>\n",
       "      <td>state_mt</td>\n",
       "      <td>3542.632302</td>\n",
       "    </tr>\n",
       "    <tr>\n",
       "      <th>2</th>\n",
       "      <td>state_ak</td>\n",
       "      <td>3459.563205</td>\n",
       "    </tr>\n",
       "    <tr>\n",
       "      <th>3</th>\n",
       "      <td>fuel_diesel</td>\n",
       "      <td>3132.204508</td>\n",
       "    </tr>\n",
       "    <tr>\n",
       "      <th>4</th>\n",
       "      <td>title_status_lien</td>\n",
       "      <td>2500.616549</td>\n",
       "    </tr>\n",
       "    <tr>\n",
       "      <th>5</th>\n",
       "      <td>type_bus</td>\n",
       "      <td>1775.787234</td>\n",
       "    </tr>\n",
       "    <tr>\n",
       "      <th>6</th>\n",
       "      <td>type_pickup</td>\n",
       "      <td>1634.002413</td>\n",
       "    </tr>\n",
       "    <tr>\n",
       "      <th>7</th>\n",
       "      <td>cylinders_8 cylinders</td>\n",
       "      <td>1280.642811</td>\n",
       "    </tr>\n",
       "    <tr>\n",
       "      <th>8</th>\n",
       "      <td>state_hi</td>\n",
       "      <td>1087.116320</td>\n",
       "    </tr>\n",
       "    <tr>\n",
       "      <th>9</th>\n",
       "      <td>cylinders_6 cylinders</td>\n",
       "      <td>1080.956160</td>\n",
       "    </tr>\n",
       "  </tbody>\n",
       "</table>\n",
       "</div>"
      ],
      "text/plain": [
       "                 features  coefficients\n",
       "0  cylinders_12 cylinders   5372.424134\n",
       "1                state_mt   3542.632302\n",
       "2                state_ak   3459.563205\n",
       "3             fuel_diesel   3132.204508\n",
       "4       title_status_lien   2500.616549\n",
       "5                type_bus   1775.787234\n",
       "6             type_pickup   1634.002413\n",
       "7   cylinders_8 cylinders   1280.642811\n",
       "8                state_hi   1087.116320\n",
       "9   cylinders_6 cylinders   1080.956160"
      ]
     },
     "execution_count": 86,
     "metadata": {},
     "output_type": "execute_result"
    }
   ],
   "source": [
    "lr = LinearRegression()\n",
    "lr.fit(filtered_X_train, y_train)\n",
    "\n",
    "\n",
    "coefs = list(lr.coef_)\n",
    "linear_model_coefs = pd.DataFrame(list(zip(features_20percent, coefs)), columns =['features', 'coefficients']) \n",
    "linear_model_coefs = linear_model_coefs.sort_values(by='coefficients', ascending=False)\n",
    "linear_model_coefs = linear_model_coefs.reset_index(drop=True)\n",
    "linear_model_coefs[:10]"
   ]
  },
  {
   "cell_type": "markdown",
   "metadata": {},
   "source": [
    "The linear regression model chose some (not all) similar important coefficients as Decision Tree. Features with positive coefficients have correlation with the output variable. A few important features are (if the number of cylinders is 12), (state), (fuel_diesel), etc. Hence, we were able to create two explainable models using Linear Regression and Decision Tree that were almost as good as our best model on the said dataset."
   ]
  },
  {
   "cell_type": "code",
   "execution_count": null,
   "metadata": {},
   "outputs": [],
   "source": []
  }
 ],
 "metadata": {
  "kernelspec": {
   "display_name": "Python 3",
   "language": "python",
   "name": "python3"
  },
  "language_info": {
   "codemirror_mode": {
    "name": "ipython",
    "version": 3
   },
   "file_extension": ".py",
   "mimetype": "text/x-python",
   "name": "python",
   "nbconvert_exporter": "python",
   "pygments_lexer": "ipython3",
   "version": "3.7.4"
  }
 },
 "nbformat": 4,
 "nbformat_minor": 2
}
